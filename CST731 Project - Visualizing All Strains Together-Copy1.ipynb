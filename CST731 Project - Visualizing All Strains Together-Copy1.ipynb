{
 "cells": [
  {
   "cell_type": "code",
   "execution_count": 78,
   "id": "75a59c45",
   "metadata": {
    "scrolled": true
   },
   "outputs": [
    {
     "name": "stdout",
     "output_type": "stream",
     "text": [
      "Requirement already satisfied: plotly in c:\\users\\jason green\\anaconda3\\lib\\site-packages (5.7.0)\n",
      "Requirement already satisfied: tenacity>=6.2.0 in c:\\users\\jason green\\anaconda3\\lib\\site-packages (from plotly) (8.0.1)\n",
      "Requirement already satisfied: six in c:\\users\\jason green\\anaconda3\\lib\\site-packages (from plotly) (1.16.0)\n"
     ]
    }
   ],
   "source": [
    "!pip install plotly"
   ]
  },
  {
   "cell_type": "code",
   "execution_count": 79,
   "id": "ea2eb71a",
   "metadata": {},
   "outputs": [
    {
     "name": "stdout",
     "output_type": "stream",
     "text": [
      "Requirement already satisfied: pandas-profiling in c:\\users\\jason green\\appdata\\roaming\\python\\python39\\site-packages (3.1.0)\n",
      "Requirement already satisfied: joblib~=1.0.1 in c:\\users\\jason green\\appdata\\roaming\\python\\python39\\site-packages (from pandas-profiling) (1.0.1)\n",
      "Requirement already satisfied: tangled-up-in-unicode==0.1.0 in c:\\users\\jason green\\anaconda3\\lib\\site-packages (from pandas-profiling) (0.1.0)\n",
      "Requirement already satisfied: pydantic>=1.8.1 in c:\\users\\jason green\\appdata\\roaming\\python\\python39\\site-packages (from pandas-profiling) (1.9.0)\n",
      "Requirement already satisfied: matplotlib>=3.2.0 in c:\\users\\jason green\\anaconda3\\lib\\site-packages (from pandas-profiling) (3.4.3)\n",
      "Requirement already satisfied: missingno>=0.4.2 in c:\\users\\jason green\\appdata\\roaming\\python\\python39\\site-packages (from pandas-profiling) (0.5.1)\n",
      "Requirement already satisfied: tqdm>=4.48.2 in c:\\users\\jason green\\anaconda3\\lib\\site-packages (from pandas-profiling) (4.62.3)\n",
      "Requirement already satisfied: jinja2>=2.11.1 in c:\\users\\jason green\\anaconda3\\lib\\site-packages (from pandas-profiling) (2.11.3)\n",
      "Requirement already satisfied: pandas!=1.0.0,!=1.0.1,!=1.0.2,!=1.1.0,>=0.25.3 in c:\\users\\jason green\\anaconda3\\lib\\site-packages (from pandas-profiling) (1.3.4)\n",
      "Requirement already satisfied: scipy>=1.4.1 in c:\\users\\jason green\\anaconda3\\lib\\site-packages (from pandas-profiling) (1.7.1)\n",
      "Requirement already satisfied: numpy>=1.16.0 in c:\\users\\jason green\\anaconda3\\lib\\site-packages (from pandas-profiling) (1.20.3)\n",
      "Requirement already satisfied: visions[type_image_path]==0.7.4 in c:\\users\\jason green\\anaconda3\\lib\\site-packages (from pandas-profiling) (0.7.4)\n",
      "Requirement already satisfied: htmlmin>=0.1.12 in c:\\users\\jason green\\appdata\\roaming\\python\\python39\\site-packages (from pandas-profiling) (0.1.12)\n",
      "Requirement already satisfied: multimethod>=1.4 in c:\\users\\jason green\\anaconda3\\lib\\site-packages (from pandas-profiling) (1.7)\n",
      "Requirement already satisfied: phik>=0.11.1 in c:\\users\\jason green\\appdata\\roaming\\python\\python39\\site-packages (from pandas-profiling) (0.12.2)\n",
      "Requirement already satisfied: PyYAML>=5.0.0 in c:\\users\\jason green\\anaconda3\\lib\\site-packages (from pandas-profiling) (6.0)\n",
      "Requirement already satisfied: seaborn>=0.10.1 in c:\\users\\jason green\\anaconda3\\lib\\site-packages (from pandas-profiling) (0.11.2)\n",
      "Requirement already satisfied: markupsafe~=2.0.1 in c:\\users\\jason green\\anaconda3\\lib\\site-packages (from pandas-profiling) (2.0.1)\n",
      "Requirement already satisfied: requests>=2.24.0 in c:\\users\\jason green\\anaconda3\\lib\\site-packages (from pandas-profiling) (2.26.0)\n",
      "Requirement already satisfied: networkx>=2.4 in c:\\users\\jason green\\anaconda3\\lib\\site-packages (from visions[type_image_path]==0.7.4->pandas-profiling) (2.6.3)\n",
      "Requirement already satisfied: attrs>=19.3.0 in c:\\users\\jason green\\anaconda3\\lib\\site-packages (from visions[type_image_path]==0.7.4->pandas-profiling) (21.2.0)\n",
      "Requirement already satisfied: Pillow in c:\\users\\jason green\\anaconda3\\lib\\site-packages (from visions[type_image_path]==0.7.4->pandas-profiling) (8.4.0)\n",
      "Requirement already satisfied: imagehash in c:\\users\\jason green\\appdata\\roaming\\python\\python39\\site-packages (from visions[type_image_path]==0.7.4->pandas-profiling) (4.2.1)\n",
      "Requirement already satisfied: python-dateutil>=2.7 in c:\\users\\jason green\\anaconda3\\lib\\site-packages (from matplotlib>=3.2.0->pandas-profiling) (2.8.2)\n",
      "Requirement already satisfied: cycler>=0.10 in c:\\users\\jason green\\anaconda3\\lib\\site-packages (from matplotlib>=3.2.0->pandas-profiling) (0.10.0)\n",
      "Requirement already satisfied: kiwisolver>=1.0.1 in c:\\users\\jason green\\anaconda3\\lib\\site-packages (from matplotlib>=3.2.0->pandas-profiling) (1.3.1)\n",
      "Requirement already satisfied: pyparsing>=2.2.1 in c:\\users\\jason green\\anaconda3\\lib\\site-packages (from matplotlib>=3.2.0->pandas-profiling) (3.0.4)\n",
      "Requirement already satisfied: six in c:\\users\\jason green\\anaconda3\\lib\\site-packages (from cycler>=0.10->matplotlib>=3.2.0->pandas-profiling) (1.16.0)\n",
      "Requirement already satisfied: pytz>=2017.3 in c:\\users\\jason green\\anaconda3\\lib\\site-packages (from pandas!=1.0.0,!=1.0.1,!=1.0.2,!=1.1.0,>=0.25.3->pandas-profiling) (2021.3)\n",
      "Requirement already satisfied: typing-extensions>=3.7.4.3 in c:\\users\\jason green\\anaconda3\\lib\\site-packages (from pydantic>=1.8.1->pandas-profiling) (3.10.0.2)\n",
      "Requirement already satisfied: certifi>=2017.4.17 in c:\\users\\jason green\\anaconda3\\lib\\site-packages (from requests>=2.24.0->pandas-profiling) (2021.10.8)\n",
      "Requirement already satisfied: urllib3<1.27,>=1.21.1 in c:\\users\\jason green\\anaconda3\\lib\\site-packages (from requests>=2.24.0->pandas-profiling) (1.26.7)\n",
      "Requirement already satisfied: charset-normalizer~=2.0.0 in c:\\users\\jason green\\anaconda3\\lib\\site-packages (from requests>=2.24.0->pandas-profiling) (2.0.4)\n",
      "Requirement already satisfied: idna<4,>=2.5 in c:\\users\\jason green\\anaconda3\\lib\\site-packages (from requests>=2.24.0->pandas-profiling) (3.2)\n",
      "Requirement already satisfied: colorama in c:\\users\\jason green\\anaconda3\\lib\\site-packages (from tqdm>=4.48.2->pandas-profiling) (0.4.4)\n",
      "Requirement already satisfied: PyWavelets in c:\\users\\jason green\\anaconda3\\lib\\site-packages (from imagehash->visions[type_image_path]==0.7.4->pandas-profiling) (1.1.1)\n"
     ]
    }
   ],
   "source": [
    "!pip install pandas-profiling"
   ]
  },
  {
   "cell_type": "code",
   "execution_count": 80,
   "id": "56610dbb",
   "metadata": {},
   "outputs": [],
   "source": [
    "#author - Jason Matthew Green\n",
    "#university - North Carolina Agricultural and Technical University \n",
    "# Professor - Li-Shang Tsay \n",
    "# Class - CST731\n",
    "#\n",
    "# This python environment is built off of Anaconda's Jupyter Notebook Anaconda Individual Edition 2021.11 includes a new release of Anaconda Navigator - version 2.1. "
   ]
  },
  {
   "cell_type": "markdown",
   "id": "cdf35ebb",
   "metadata": {},
   "source": [
    "### Resources\n",
    "### https://github.com/ydataai/pandas-profiling "
   ]
  },
  {
   "cell_type": "code",
   "execution_count": 81,
   "id": "bfa1d039",
   "metadata": {},
   "outputs": [],
   "source": [
    "import pandas as pd\n",
    "import plotly.express as px\n",
    "import matplotlib.pyplot as plt\n",
    "\n",
    "\n",
    "import pandas_profiling as pp"
   ]
  },
  {
   "cell_type": "markdown",
   "id": "32e20196",
   "metadata": {},
   "source": [
    "## This work attempts to create a chart using Date and Time alongside Pandas and visualizsation using Plotly\n",
    "## ========================================================================"
   ]
  },
  {
   "cell_type": "markdown",
   "id": "3552f379",
   "metadata": {},
   "source": [
    "### Loading Data"
   ]
  },
  {
   "cell_type": "code",
   "execution_count": 82,
   "id": "8054afac",
   "metadata": {},
   "outputs": [],
   "source": [
    "omi = pd.read_csv(\"covid-variants.csv\")"
   ]
  },
  {
   "cell_type": "code",
   "execution_count": 83,
   "id": "89056801",
   "metadata": {},
   "outputs": [
    {
     "data": {
      "text/html": [
       "<div>\n",
       "<style scoped>\n",
       "    .dataframe tbody tr th:only-of-type {\n",
       "        vertical-align: middle;\n",
       "    }\n",
       "\n",
       "    .dataframe tbody tr th {\n",
       "        vertical-align: top;\n",
       "    }\n",
       "\n",
       "    .dataframe thead th {\n",
       "        text-align: right;\n",
       "    }\n",
       "</style>\n",
       "<table border=\"1\" class=\"dataframe\">\n",
       "  <thead>\n",
       "    <tr style=\"text-align: right;\">\n",
       "      <th></th>\n",
       "      <th>location</th>\n",
       "      <th>date</th>\n",
       "      <th>variant</th>\n",
       "      <th>num_sequences</th>\n",
       "      <th>perc_sequences</th>\n",
       "      <th>num_sequences_total</th>\n",
       "    </tr>\n",
       "  </thead>\n",
       "  <tbody>\n",
       "    <tr>\n",
       "      <th>0</th>\n",
       "      <td>Angola</td>\n",
       "      <td>2020-07-06</td>\n",
       "      <td>Alpha</td>\n",
       "      <td>0</td>\n",
       "      <td>0.0</td>\n",
       "      <td>3</td>\n",
       "    </tr>\n",
       "    <tr>\n",
       "      <th>1</th>\n",
       "      <td>Angola</td>\n",
       "      <td>2020-07-06</td>\n",
       "      <td>B.1.1.277</td>\n",
       "      <td>0</td>\n",
       "      <td>0.0</td>\n",
       "      <td>3</td>\n",
       "    </tr>\n",
       "    <tr>\n",
       "      <th>2</th>\n",
       "      <td>Angola</td>\n",
       "      <td>2020-07-06</td>\n",
       "      <td>B.1.1.302</td>\n",
       "      <td>0</td>\n",
       "      <td>0.0</td>\n",
       "      <td>3</td>\n",
       "    </tr>\n",
       "    <tr>\n",
       "      <th>3</th>\n",
       "      <td>Angola</td>\n",
       "      <td>2020-07-06</td>\n",
       "      <td>B.1.1.519</td>\n",
       "      <td>0</td>\n",
       "      <td>0.0</td>\n",
       "      <td>3</td>\n",
       "    </tr>\n",
       "    <tr>\n",
       "      <th>4</th>\n",
       "      <td>Angola</td>\n",
       "      <td>2020-07-06</td>\n",
       "      <td>B.1.160</td>\n",
       "      <td>0</td>\n",
       "      <td>0.0</td>\n",
       "      <td>3</td>\n",
       "    </tr>\n",
       "    <tr>\n",
       "      <th>5</th>\n",
       "      <td>Angola</td>\n",
       "      <td>2020-07-06</td>\n",
       "      <td>B.1.177</td>\n",
       "      <td>0</td>\n",
       "      <td>0.0</td>\n",
       "      <td>3</td>\n",
       "    </tr>\n",
       "    <tr>\n",
       "      <th>6</th>\n",
       "      <td>Angola</td>\n",
       "      <td>2020-07-06</td>\n",
       "      <td>B.1.221</td>\n",
       "      <td>0</td>\n",
       "      <td>0.0</td>\n",
       "      <td>3</td>\n",
       "    </tr>\n",
       "    <tr>\n",
       "      <th>7</th>\n",
       "      <td>Angola</td>\n",
       "      <td>2020-07-06</td>\n",
       "      <td>B.1.258</td>\n",
       "      <td>0</td>\n",
       "      <td>0.0</td>\n",
       "      <td>3</td>\n",
       "    </tr>\n",
       "    <tr>\n",
       "      <th>8</th>\n",
       "      <td>Angola</td>\n",
       "      <td>2020-07-06</td>\n",
       "      <td>B.1.367</td>\n",
       "      <td>0</td>\n",
       "      <td>0.0</td>\n",
       "      <td>3</td>\n",
       "    </tr>\n",
       "    <tr>\n",
       "      <th>9</th>\n",
       "      <td>Angola</td>\n",
       "      <td>2020-07-06</td>\n",
       "      <td>B.1.620</td>\n",
       "      <td>0</td>\n",
       "      <td>0.0</td>\n",
       "      <td>3</td>\n",
       "    </tr>\n",
       "  </tbody>\n",
       "</table>\n",
       "</div>"
      ],
      "text/plain": [
       "  location        date    variant  num_sequences  perc_sequences  \\\n",
       "0   Angola  2020-07-06      Alpha              0             0.0   \n",
       "1   Angola  2020-07-06  B.1.1.277              0             0.0   \n",
       "2   Angola  2020-07-06  B.1.1.302              0             0.0   \n",
       "3   Angola  2020-07-06  B.1.1.519              0             0.0   \n",
       "4   Angola  2020-07-06    B.1.160              0             0.0   \n",
       "5   Angola  2020-07-06    B.1.177              0             0.0   \n",
       "6   Angola  2020-07-06    B.1.221              0             0.0   \n",
       "7   Angola  2020-07-06    B.1.258              0             0.0   \n",
       "8   Angola  2020-07-06    B.1.367              0             0.0   \n",
       "9   Angola  2020-07-06    B.1.620              0             0.0   \n",
       "\n",
       "   num_sequences_total  \n",
       "0                    3  \n",
       "1                    3  \n",
       "2                    3  \n",
       "3                    3  \n",
       "4                    3  \n",
       "5                    3  \n",
       "6                    3  \n",
       "7                    3  \n",
       "8                    3  \n",
       "9                    3  "
      ]
     },
     "execution_count": 83,
     "metadata": {},
     "output_type": "execute_result"
    }
   ],
   "source": [
    "omi.head(10)"
   ]
  },
  {
   "cell_type": "code",
   "execution_count": 65,
   "id": "a24a497e",
   "metadata": {},
   "outputs": [
    {
     "data": {
      "text/plain": [
       "(100416, 6)"
      ]
     },
     "execution_count": 65,
     "metadata": {},
     "output_type": "execute_result"
    }
   ],
   "source": [
    "omi.shape\n"
   ]
  },
  {
   "cell_type": "markdown",
   "id": "4169f33d",
   "metadata": {},
   "source": [
    "## ==============================================\n",
    "## Checking Data Info"
   ]
  },
  {
   "cell_type": "code",
   "execution_count": 66,
   "id": "699b19b7",
   "metadata": {},
   "outputs": [
    {
     "data": {
      "text/plain": [
       "location               0\n",
       "date                   0\n",
       "variant                0\n",
       "num_sequences          0\n",
       "perc_sequences         0\n",
       "num_sequences_total    0\n",
       "dtype: int64"
      ]
     },
     "execution_count": 66,
     "metadata": {},
     "output_type": "execute_result"
    }
   ],
   "source": [
    "omi.isnull().sum()"
   ]
  },
  {
   "cell_type": "code",
   "execution_count": 67,
   "id": "53c55fe2",
   "metadata": {},
   "outputs": [
    {
     "name": "stdout",
     "output_type": "stream",
     "text": [
      "<class 'pandas.core.frame.DataFrame'>\n",
      "RangeIndex: 100416 entries, 0 to 100415\n",
      "Data columns (total 6 columns):\n",
      " #   Column               Non-Null Count   Dtype  \n",
      "---  ------               --------------   -----  \n",
      " 0   location             100416 non-null  object \n",
      " 1   date                 100416 non-null  object \n",
      " 2   variant              100416 non-null  object \n",
      " 3   num_sequences        100416 non-null  int64  \n",
      " 4   perc_sequences       100416 non-null  float64\n",
      " 5   num_sequences_total  100416 non-null  int64  \n",
      "dtypes: float64(1), int64(2), object(3)\n",
      "memory usage: 4.6+ MB\n"
     ]
    }
   ],
   "source": [
    "omi.info()"
   ]
  },
  {
   "cell_type": "markdown",
   "id": "c4abd981",
   "metadata": {},
   "source": [
    "# ==============================================================\n",
    "# Data Processing"
   ]
  },
  {
   "cell_type": "code",
   "execution_count": 68,
   "id": "01fcadb8",
   "metadata": {},
   "outputs": [],
   "source": [
    "# Starting to bring in date and time as an object\n",
    "omi.date = pd.to_datetime(omi.date) "
   ]
  },
  {
   "cell_type": "code",
   "execution_count": 69,
   "id": "5bc4357d",
   "metadata": {},
   "outputs": [
    {
     "name": "stdout",
     "output_type": "stream",
     "text": [
      "Data begins at 2020-05-11 00:00:00 until 2022-01-05 00:00:00\n"
     ]
    }
   ],
   "source": [
    "# Checking that its working\n",
    "\n",
    "print('Data begins at', omi.date.min(), 'until', omi.date.max())"
   ]
  },
  {
   "cell_type": "code",
   "execution_count": 70,
   "id": "baaeeee6",
   "metadata": {},
   "outputs": [
    {
     "name": "stdout",
     "output_type": "stream",
     "text": [
      "Country Number:  121\n"
     ]
    }
   ],
   "source": [
    "# It recognizes the time window now as an object now to check the countries as an object\n",
    "\n",
    "print('Country Number: ', len(omi.location.unique()))"
   ]
  },
  {
   "cell_type": "code",
   "execution_count": 71,
   "id": "83808240",
   "metadata": {},
   "outputs": [
    {
     "name": "stdout",
     "output_type": "stream",
     "text": [
      "['Alpha' 'B.1.1.277' 'B.1.1.302' 'B.1.1.519' 'B.1.160' 'B.1.177' 'B.1.221'\n",
      " 'B.1.258' 'B.1.367' 'B.1.620' 'Beta' 'Delta' 'Epsilon' 'Eta' 'Gamma'\n",
      " 'Iota' 'Kappa' 'Lambda' 'Mu' 'Omicron' 'S:677H.Robin1' 'S:677P.Pelican'\n",
      " 'others' 'non_who'] \n",
      "\n",
      " Number of Viruses:  24\n"
     ]
    }
   ],
   "source": [
    "#Checking Viruses\n",
    "\n",
    "print(omi.variant.unique(), '\\n\\n Number of Viruses: ', len(omi.variant.unique()))"
   ]
  },
  {
   "cell_type": "code",
   "execution_count": 72,
   "id": "8d06be0d",
   "metadata": {},
   "outputs": [],
   "source": [
    "omi=omi[omi[\"variant\"]!=\"non_who\"]"
   ]
  },
  {
   "cell_type": "code",
   "execution_count": 73,
   "id": "120d4619",
   "metadata": {},
   "outputs": [
    {
     "name": "stdout",
     "output_type": "stream",
     "text": [
      "['Alpha' 'B.1.1.277' 'B.1.1.302' 'B.1.1.519' 'B.1.160' 'B.1.177' 'B.1.221'\n",
      " 'B.1.258' 'B.1.367' 'B.1.620' 'Beta' 'Delta' 'Epsilon' 'Eta' 'Gamma'\n",
      " 'Iota' 'Kappa' 'Lambda' 'Mu' 'Omicron' 'S:677H.Robin1' 'S:677P.Pelican'\n",
      " 'others'] \n",
      "\n",
      " Number of Viruses:  23\n"
     ]
    }
   ],
   "source": [
    "## taking out non_who as a variable\n",
    "print(omi.variant.unique(), '\\n\\n Number of Viruses: ', len(omi.variant.unique()))"
   ]
  },
  {
   "cell_type": "markdown",
   "id": "e4652a4a",
   "metadata": {},
   "source": [
    "# ============================================================\n",
    "# Visualizing Data: "
   ]
  },
  {
   "cell_type": "code",
   "execution_count": 84,
   "id": "4c94a0aa",
   "metadata": {
    "scrolled": true
   },
   "outputs": [
    {
     "data": {
      "application/vnd.plotly.v1+json": {
       "config": {
        "plotlyServerURL": "https://plot.ly"
       },
       "data": [
        {
         "alignmentgroup": "True",
         "hovertemplate": "variant=Alpha<br>date=%{x}<br>num_sequences=%{y}<extra></extra>",
         "legendgroup": "Alpha",
         "marker": {
          "color": "#636efa",
          "pattern": {
           "shape": ""
          }
         },
         "name": "Alpha",
         "offsetgroup": "Alpha",
         "orientation": "v",
         "showlegend": true,
         "textposition": "auto",
         "type": "bar",
         "x": [
          "2020-05-11",
          "2020-05-25",
          "2020-06-08",
          "2020-06-22",
          "2020-07-06",
          "2020-07-20",
          "2020-08-03",
          "2020-08-17",
          "2020-08-31",
          "2020-09-14",
          "2020-09-28",
          "2020-10-12",
          "2020-10-26",
          "2020-11-09",
          "2020-11-23",
          "2020-12-07",
          "2020-12-21",
          "2021-01-04",
          "2021-01-11",
          "2021-01-25",
          "2021-02-08",
          "2021-02-22",
          "2021-03-08",
          "2021-03-22",
          "2021-04-05",
          "2021-04-19",
          "2021-05-03",
          "2021-05-17",
          "2021-05-31",
          "2021-06-14",
          "2021-06-28",
          "2021-07-12",
          "2021-07-26",
          "2021-08-09",
          "2021-08-23",
          "2021-09-06",
          "2021-09-20",
          "2021-10-04",
          "2021-10-18",
          "2021-11-01",
          "2021-11-15",
          "2021-11-29",
          "2021-12-13",
          "2021-12-27",
          "2022-01-05"
         ],
         "xaxis": "x",
         "y": [
          0,
          0,
          0,
          0,
          0,
          0,
          0,
          0,
          0,
          0,
          3,
          15,
          47,
          381,
          1450,
          1128,
          9061,
          14002,
          12101,
          33497,
          48817,
          63335,
          85363,
          122805,
          137566,
          142801,
          141711,
          120332,
          82479,
          50137,
          27240,
          16749,
          10348,
          6747,
          2893,
          834,
          291,
          103,
          136,
          43,
          36,
          123,
          17,
          4,
          0
         ],
         "yaxis": "y"
        },
        {
         "alignmentgroup": "True",
         "hovertemplate": "variant=B.1.1.277<br>date=%{x}<br>num_sequences=%{y}<extra></extra>",
         "legendgroup": "B.1.1.277",
         "marker": {
          "color": "#EF553B",
          "pattern": {
           "shape": ""
          }
         },
         "name": "B.1.1.277",
         "offsetgroup": "B.1.1.277",
         "orientation": "v",
         "showlegend": true,
         "textposition": "auto",
         "type": "bar",
         "x": [
          "2020-05-11",
          "2020-05-25",
          "2020-06-08",
          "2020-06-22",
          "2020-07-06",
          "2020-07-20",
          "2020-08-03",
          "2020-08-17",
          "2020-08-31",
          "2020-09-14",
          "2020-09-28",
          "2020-10-12",
          "2020-10-26",
          "2020-11-09",
          "2020-11-23",
          "2020-12-07",
          "2020-12-21",
          "2021-01-04",
          "2021-01-11",
          "2021-01-25",
          "2021-02-08",
          "2021-02-22",
          "2021-03-08",
          "2021-03-22",
          "2021-04-05",
          "2021-04-19",
          "2021-05-03",
          "2021-05-17",
          "2021-05-31",
          "2021-06-14",
          "2021-06-28",
          "2021-07-12",
          "2021-07-26",
          "2021-08-09",
          "2021-08-23",
          "2021-09-06",
          "2021-09-20",
          "2021-10-04",
          "2021-10-18",
          "2021-11-01",
          "2021-11-15",
          "2021-11-29",
          "2021-12-13",
          "2021-12-27",
          "2022-01-05"
         ],
         "xaxis": "x",
         "y": [
          0,
          0,
          0,
          0,
          0,
          7,
          12,
          43,
          94,
          143,
          178,
          120,
          155,
          180,
          72,
          42,
          28,
          29,
          10,
          20,
          21,
          12,
          9,
          3,
          0,
          1,
          0,
          0,
          0,
          0,
          0,
          2,
          2,
          0,
          0,
          0,
          0,
          0,
          0,
          0,
          0,
          0,
          0,
          0,
          0
         ],
         "yaxis": "y"
        },
        {
         "alignmentgroup": "True",
         "hovertemplate": "variant=B.1.1.302<br>date=%{x}<br>num_sequences=%{y}<extra></extra>",
         "legendgroup": "B.1.1.302",
         "marker": {
          "color": "#00cc96",
          "pattern": {
           "shape": ""
          }
         },
         "name": "B.1.1.302",
         "offsetgroup": "B.1.1.302",
         "orientation": "v",
         "showlegend": true,
         "textposition": "auto",
         "type": "bar",
         "x": [
          "2020-05-11",
          "2020-05-25",
          "2020-06-08",
          "2020-06-22",
          "2020-07-06",
          "2020-07-20",
          "2020-08-03",
          "2020-08-17",
          "2020-08-31",
          "2020-09-14",
          "2020-09-28",
          "2020-10-12",
          "2020-10-26",
          "2020-11-09",
          "2020-11-23",
          "2020-12-07",
          "2020-12-21",
          "2021-01-04",
          "2021-01-11",
          "2021-01-25",
          "2021-02-08",
          "2021-02-22",
          "2021-03-08",
          "2021-03-22",
          "2021-04-05",
          "2021-04-19",
          "2021-05-03",
          "2021-05-17",
          "2021-05-31",
          "2021-06-14",
          "2021-06-28",
          "2021-07-12",
          "2021-07-26",
          "2021-08-09",
          "2021-08-23",
          "2021-09-06",
          "2021-09-20",
          "2021-10-04",
          "2021-10-18",
          "2021-11-01",
          "2021-11-15",
          "2021-11-29",
          "2021-12-13",
          "2021-12-27",
          "2022-01-05"
         ],
         "xaxis": "x",
         "y": [
          0,
          0,
          0,
          0,
          0,
          3,
          8,
          12,
          24,
          32,
          27,
          31,
          21,
          21,
          27,
          29,
          42,
          21,
          7,
          45,
          33,
          51,
          42,
          4,
          5,
          0,
          0,
          0,
          0,
          0,
          0,
          0,
          0,
          0,
          0,
          0,
          0,
          0,
          0,
          1,
          0,
          0,
          0,
          0,
          0
         ],
         "yaxis": "y"
        },
        {
         "alignmentgroup": "True",
         "hovertemplate": "variant=B.1.1.519<br>date=%{x}<br>num_sequences=%{y}<extra></extra>",
         "legendgroup": "B.1.1.519",
         "marker": {
          "color": "#ab63fa",
          "pattern": {
           "shape": ""
          }
         },
         "name": "B.1.1.519",
         "offsetgroup": "B.1.1.519",
         "orientation": "v",
         "showlegend": true,
         "textposition": "auto",
         "type": "bar",
         "x": [
          "2020-05-11",
          "2020-05-25",
          "2020-06-08",
          "2020-06-22",
          "2020-07-06",
          "2020-07-20",
          "2020-08-03",
          "2020-08-17",
          "2020-08-31",
          "2020-09-14",
          "2020-09-28",
          "2020-10-12",
          "2020-10-26",
          "2020-11-09",
          "2020-11-23",
          "2020-12-07",
          "2020-12-21",
          "2021-01-04",
          "2021-01-11",
          "2021-01-25",
          "2021-02-08",
          "2021-02-22",
          "2021-03-08",
          "2021-03-22",
          "2021-04-05",
          "2021-04-19",
          "2021-05-03",
          "2021-05-17",
          "2021-05-31",
          "2021-06-14",
          "2021-06-28",
          "2021-07-12",
          "2021-07-26",
          "2021-08-09",
          "2021-08-23",
          "2021-09-06",
          "2021-09-20",
          "2021-10-04",
          "2021-10-18",
          "2021-11-01",
          "2021-11-15",
          "2021-11-29",
          "2021-12-13",
          "2021-12-27",
          "2022-01-05"
         ],
         "xaxis": "x",
         "y": [
          0,
          0,
          0,
          0,
          0,
          0,
          0,
          0,
          0,
          0,
          0,
          0,
          1,
          5,
          17,
          34,
          82,
          184,
          244,
          925,
          1067,
          2124,
          2961,
          3100,
          3420,
          3241,
          2276,
          1573,
          800,
          426,
          231,
          74,
          18,
          9,
          2,
          3,
          5,
          0,
          0,
          2,
          1,
          0,
          0,
          0,
          0
         ],
         "yaxis": "y"
        },
        {
         "alignmentgroup": "True",
         "hovertemplate": "variant=B.1.160<br>date=%{x}<br>num_sequences=%{y}<extra></extra>",
         "legendgroup": "B.1.160",
         "marker": {
          "color": "#FFA15A",
          "pattern": {
           "shape": ""
          }
         },
         "name": "B.1.160",
         "offsetgroup": "B.1.160",
         "orientation": "v",
         "showlegend": true,
         "textposition": "auto",
         "type": "bar",
         "x": [
          "2020-05-11",
          "2020-05-25",
          "2020-06-08",
          "2020-06-22",
          "2020-07-06",
          "2020-07-20",
          "2020-08-03",
          "2020-08-17",
          "2020-08-31",
          "2020-09-14",
          "2020-09-28",
          "2020-10-12",
          "2020-10-26",
          "2020-11-09",
          "2020-11-23",
          "2020-12-07",
          "2020-12-21",
          "2021-01-04",
          "2021-01-11",
          "2021-01-25",
          "2021-02-08",
          "2021-02-22",
          "2021-03-08",
          "2021-03-22",
          "2021-04-05",
          "2021-04-19",
          "2021-05-03",
          "2021-05-17",
          "2021-05-31",
          "2021-06-14",
          "2021-06-28",
          "2021-07-12",
          "2021-07-26",
          "2021-08-09",
          "2021-08-23",
          "2021-09-06",
          "2021-09-20",
          "2021-10-04",
          "2021-10-18",
          "2021-11-01",
          "2021-11-15",
          "2021-11-29",
          "2021-12-13",
          "2021-12-27",
          "2022-01-05"
         ],
         "xaxis": "x",
         "y": [
          0,
          0,
          0,
          0,
          0,
          8,
          22,
          89,
          386,
          1017,
          1049,
          1188,
          2017,
          2773,
          2274,
          2029,
          3110,
          2934,
          1838,
          4164,
          3587,
          2362,
          1585,
          838,
          351,
          134,
          85,
          44,
          15,
          15,
          9,
          28,
          26,
          11,
          10,
          3,
          0,
          4,
          1,
          3,
          1,
          0,
          2,
          7,
          0
         ],
         "yaxis": "y"
        },
        {
         "alignmentgroup": "True",
         "hovertemplate": "variant=B.1.177<br>date=%{x}<br>num_sequences=%{y}<extra></extra>",
         "legendgroup": "B.1.177",
         "marker": {
          "color": "#19d3f3",
          "pattern": {
           "shape": ""
          }
         },
         "name": "B.1.177",
         "offsetgroup": "B.1.177",
         "orientation": "v",
         "showlegend": true,
         "textposition": "auto",
         "type": "bar",
         "x": [
          "2020-05-11",
          "2020-05-25",
          "2020-06-08",
          "2020-06-22",
          "2020-07-06",
          "2020-07-20",
          "2020-08-03",
          "2020-08-17",
          "2020-08-31",
          "2020-09-14",
          "2020-09-28",
          "2020-10-12",
          "2020-10-26",
          "2020-11-09",
          "2020-11-23",
          "2020-12-07",
          "2020-12-21",
          "2021-01-04",
          "2021-01-11",
          "2021-01-25",
          "2021-02-08",
          "2021-02-22",
          "2021-03-08",
          "2021-03-22",
          "2021-04-05",
          "2021-04-19",
          "2021-05-03",
          "2021-05-17",
          "2021-05-31",
          "2021-06-14",
          "2021-06-28",
          "2021-07-12",
          "2021-07-26",
          "2021-08-09",
          "2021-08-23",
          "2021-09-06",
          "2021-09-20",
          "2021-10-04",
          "2021-10-18",
          "2021-11-01",
          "2021-11-15",
          "2021-11-29",
          "2021-12-13",
          "2021-12-27",
          "2022-01-05"
         ],
         "xaxis": "x",
         "y": [
          2,
          0,
          2,
          8,
          72,
          88,
          172,
          499,
          1400,
          2923,
          6225,
          8693,
          13008,
          15723,
          15622,
          10489,
          19350,
          14161,
          7598,
          16292,
          13285,
          10588,
          6975,
          3935,
          1578,
          813,
          491,
          252,
          65,
          41,
          9,
          19,
          17,
          15,
          6,
          2,
          1,
          14,
          15,
          1,
          3,
          2,
          2,
          1,
          0
         ],
         "yaxis": "y"
        },
        {
         "alignmentgroup": "True",
         "hovertemplate": "variant=B.1.221<br>date=%{x}<br>num_sequences=%{y}<extra></extra>",
         "legendgroup": "B.1.221",
         "marker": {
          "color": "#FF6692",
          "pattern": {
           "shape": ""
          }
         },
         "name": "B.1.221",
         "offsetgroup": "B.1.221",
         "orientation": "v",
         "showlegend": true,
         "textposition": "auto",
         "type": "bar",
         "x": [
          "2020-05-11",
          "2020-05-25",
          "2020-06-08",
          "2020-06-22",
          "2020-07-06",
          "2020-07-20",
          "2020-08-03",
          "2020-08-17",
          "2020-08-31",
          "2020-09-14",
          "2020-09-28",
          "2020-10-12",
          "2020-10-26",
          "2020-11-09",
          "2020-11-23",
          "2020-12-07",
          "2020-12-21",
          "2021-01-04",
          "2021-01-11",
          "2021-01-25",
          "2021-02-08",
          "2021-02-22",
          "2021-03-08",
          "2021-03-22",
          "2021-04-05",
          "2021-04-19",
          "2021-05-03",
          "2021-05-17",
          "2021-05-31",
          "2021-06-14",
          "2021-06-28",
          "2021-07-12",
          "2021-07-26",
          "2021-08-09",
          "2021-08-23",
          "2021-09-06",
          "2021-09-20",
          "2021-10-04",
          "2021-10-18",
          "2021-11-01",
          "2021-11-15",
          "2021-11-29",
          "2021-12-13",
          "2021-12-27",
          "2022-01-05"
         ],
         "xaxis": "x",
         "y": [
          0,
          0,
          0,
          5,
          1,
          5,
          43,
          89,
          173,
          193,
          321,
          307,
          634,
          682,
          737,
          908,
          1442,
          1255,
          743,
          2079,
          2236,
          1630,
          1076,
          531,
          184,
          58,
          22,
          7,
          7,
          0,
          3,
          1,
          1,
          0,
          0,
          0,
          0,
          1,
          0,
          1,
          0,
          0,
          2,
          0,
          0
         ],
         "yaxis": "y"
        },
        {
         "alignmentgroup": "True",
         "hovertemplate": "variant=B.1.258<br>date=%{x}<br>num_sequences=%{y}<extra></extra>",
         "legendgroup": "B.1.258",
         "marker": {
          "color": "#B6E880",
          "pattern": {
           "shape": ""
          }
         },
         "name": "B.1.258",
         "offsetgroup": "B.1.258",
         "orientation": "v",
         "showlegend": true,
         "textposition": "auto",
         "type": "bar",
         "x": [
          "2020-05-11",
          "2020-05-25",
          "2020-06-08",
          "2020-06-22",
          "2020-07-06",
          "2020-07-20",
          "2020-08-03",
          "2020-08-17",
          "2020-08-31",
          "2020-09-14",
          "2020-09-28",
          "2020-10-12",
          "2020-10-26",
          "2020-11-09",
          "2020-11-23",
          "2020-12-07",
          "2020-12-21",
          "2021-01-04",
          "2021-01-11",
          "2021-01-25",
          "2021-02-08",
          "2021-02-22",
          "2021-03-08",
          "2021-03-22",
          "2021-04-05",
          "2021-04-19",
          "2021-05-03",
          "2021-05-17",
          "2021-05-31",
          "2021-06-14",
          "2021-06-28",
          "2021-07-12",
          "2021-07-26",
          "2021-08-09",
          "2021-08-23",
          "2021-09-06",
          "2021-09-20",
          "2021-10-04",
          "2021-10-18",
          "2021-11-01",
          "2021-11-15",
          "2021-11-29",
          "2021-12-13",
          "2021-12-27",
          "2022-01-05"
         ],
         "xaxis": "x",
         "y": [
          1,
          2,
          1,
          2,
          15,
          27,
          112,
          185,
          408,
          377,
          784,
          785,
          1219,
          2034,
          1213,
          1885,
          2763,
          2670,
          1666,
          2591,
          3500,
          2845,
          2614,
          1501,
          837,
          408,
          221,
          75,
          17,
          8,
          7,
          5,
          1,
          1,
          1,
          1,
          0,
          1,
          2,
          1,
          0,
          0,
          1,
          0,
          0
         ],
         "yaxis": "y"
        },
        {
         "alignmentgroup": "True",
         "hovertemplate": "variant=B.1.367<br>date=%{x}<br>num_sequences=%{y}<extra></extra>",
         "legendgroup": "B.1.367",
         "marker": {
          "color": "#FF97FF",
          "pattern": {
           "shape": ""
          }
         },
         "name": "B.1.367",
         "offsetgroup": "B.1.367",
         "orientation": "v",
         "showlegend": true,
         "textposition": "auto",
         "type": "bar",
         "x": [
          "2020-05-11",
          "2020-05-25",
          "2020-06-08",
          "2020-06-22",
          "2020-07-06",
          "2020-07-20",
          "2020-08-03",
          "2020-08-17",
          "2020-08-31",
          "2020-09-14",
          "2020-09-28",
          "2020-10-12",
          "2020-10-26",
          "2020-11-09",
          "2020-11-23",
          "2020-12-07",
          "2020-12-21",
          "2021-01-04",
          "2021-01-11",
          "2021-01-25",
          "2021-02-08",
          "2021-02-22",
          "2021-03-08",
          "2021-03-22",
          "2021-04-05",
          "2021-04-19",
          "2021-05-03",
          "2021-05-17",
          "2021-05-31",
          "2021-06-14",
          "2021-06-28",
          "2021-07-12",
          "2021-07-26",
          "2021-08-09",
          "2021-08-23",
          "2021-09-06",
          "2021-09-20",
          "2021-10-04",
          "2021-10-18",
          "2021-11-01",
          "2021-11-15",
          "2021-11-29",
          "2021-12-13",
          "2021-12-27",
          "2022-01-05"
         ],
         "xaxis": "x",
         "y": [
          0,
          0,
          0,
          0,
          0,
          1,
          18,
          107,
          216,
          199,
          98,
          86,
          51,
          39,
          28,
          21,
          22,
          18,
          3,
          25,
          3,
          13,
          5,
          0,
          2,
          1,
          0,
          0,
          0,
          0,
          0,
          0,
          0,
          0,
          0,
          1,
          2,
          1,
          0,
          0,
          0,
          0,
          1,
          0,
          0
         ],
         "yaxis": "y"
        },
        {
         "alignmentgroup": "True",
         "hovertemplate": "variant=B.1.620<br>date=%{x}<br>num_sequences=%{y}<extra></extra>",
         "legendgroup": "B.1.620",
         "marker": {
          "color": "#FECB52",
          "pattern": {
           "shape": ""
          }
         },
         "name": "B.1.620",
         "offsetgroup": "B.1.620",
         "orientation": "v",
         "showlegend": true,
         "textposition": "auto",
         "type": "bar",
         "x": [
          "2020-05-11",
          "2020-05-25",
          "2020-06-08",
          "2020-06-22",
          "2020-07-06",
          "2020-07-20",
          "2020-08-03",
          "2020-08-17",
          "2020-08-31",
          "2020-09-14",
          "2020-09-28",
          "2020-10-12",
          "2020-10-26",
          "2020-11-09",
          "2020-11-23",
          "2020-12-07",
          "2020-12-21",
          "2021-01-04",
          "2021-01-11",
          "2021-01-25",
          "2021-02-08",
          "2021-02-22",
          "2021-03-08",
          "2021-03-22",
          "2021-04-05",
          "2021-04-19",
          "2021-05-03",
          "2021-05-17",
          "2021-05-31",
          "2021-06-14",
          "2021-06-28",
          "2021-07-12",
          "2021-07-26",
          "2021-08-09",
          "2021-08-23",
          "2021-09-06",
          "2021-09-20",
          "2021-10-04",
          "2021-10-18",
          "2021-11-01",
          "2021-11-15",
          "2021-11-29",
          "2021-12-13",
          "2021-12-27",
          "2022-01-05"
         ],
         "xaxis": "x",
         "y": [
          0,
          0,
          0,
          0,
          0,
          0,
          0,
          0,
          0,
          0,
          0,
          0,
          0,
          0,
          0,
          0,
          0,
          0,
          0,
          0,
          0,
          1,
          11,
          24,
          64,
          122,
          125,
          155,
          151,
          154,
          81,
          40,
          51,
          25,
          7,
          3,
          2,
          0,
          0,
          0,
          0,
          0,
          0,
          0,
          0
         ],
         "yaxis": "y"
        },
        {
         "alignmentgroup": "True",
         "hovertemplate": "variant=Beta<br>date=%{x}<br>num_sequences=%{y}<extra></extra>",
         "legendgroup": "Beta",
         "marker": {
          "color": "#636efa",
          "pattern": {
           "shape": ""
          }
         },
         "name": "Beta",
         "offsetgroup": "Beta",
         "orientation": "v",
         "showlegend": true,
         "textposition": "auto",
         "type": "bar",
         "x": [
          "2020-05-11",
          "2020-05-25",
          "2020-06-08",
          "2020-06-22",
          "2020-07-06",
          "2020-07-20",
          "2020-08-03",
          "2020-08-17",
          "2020-08-31",
          "2020-09-14",
          "2020-09-28",
          "2020-10-12",
          "2020-10-26",
          "2020-11-09",
          "2020-11-23",
          "2020-12-07",
          "2020-12-21",
          "2021-01-04",
          "2021-01-11",
          "2021-01-25",
          "2021-02-08",
          "2021-02-22",
          "2021-03-08",
          "2021-03-22",
          "2021-04-05",
          "2021-04-19",
          "2021-05-03",
          "2021-05-17",
          "2021-05-31",
          "2021-06-14",
          "2021-06-28",
          "2021-07-12",
          "2021-07-26",
          "2021-08-09",
          "2021-08-23",
          "2021-09-06",
          "2021-09-20",
          "2021-10-04",
          "2021-10-18",
          "2021-11-01",
          "2021-11-15",
          "2021-11-29",
          "2021-12-13",
          "2021-12-27",
          "2022-01-05"
         ],
         "xaxis": "x",
         "y": [
          0,
          0,
          0,
          0,
          0,
          0,
          0,
          1,
          21,
          46,
          71,
          88,
          148,
          282,
          306,
          446,
          650,
          1139,
          903,
          1601,
          1840,
          2395,
          3082,
          4606,
          4652,
          3897,
          3336,
          2627,
          1854,
          1586,
          1434,
          1831,
          1007,
          417,
          148,
          50,
          15,
          10,
          6,
          4,
          9,
          3,
          3,
          0,
          0
         ],
         "yaxis": "y"
        },
        {
         "alignmentgroup": "True",
         "hovertemplate": "variant=Delta<br>date=%{x}<br>num_sequences=%{y}<extra></extra>",
         "legendgroup": "Delta",
         "marker": {
          "color": "#EF553B",
          "pattern": {
           "shape": ""
          }
         },
         "name": "Delta",
         "offsetgroup": "Delta",
         "orientation": "v",
         "showlegend": true,
         "textposition": "auto",
         "type": "bar",
         "x": [
          "2020-05-11",
          "2020-05-25",
          "2020-06-08",
          "2020-06-22",
          "2020-07-06",
          "2020-07-20",
          "2020-08-03",
          "2020-08-17",
          "2020-08-31",
          "2020-09-14",
          "2020-09-28",
          "2020-10-12",
          "2020-10-26",
          "2020-11-09",
          "2020-11-23",
          "2020-12-07",
          "2020-12-21",
          "2021-01-04",
          "2021-01-11",
          "2021-01-25",
          "2021-02-08",
          "2021-02-22",
          "2021-03-08",
          "2021-03-22",
          "2021-04-05",
          "2021-04-19",
          "2021-05-03",
          "2021-05-17",
          "2021-05-31",
          "2021-06-14",
          "2021-06-28",
          "2021-07-12",
          "2021-07-26",
          "2021-08-09",
          "2021-08-23",
          "2021-09-06",
          "2021-09-20",
          "2021-10-04",
          "2021-10-18",
          "2021-11-01",
          "2021-11-15",
          "2021-11-29",
          "2021-12-13",
          "2021-12-27",
          "2022-01-05"
         ],
         "xaxis": "x",
         "y": [
          0,
          0,
          0,
          0,
          0,
          0,
          0,
          0,
          0,
          0,
          0,
          0,
          3,
          13,
          19,
          20,
          13,
          18,
          67,
          58,
          81,
          133,
          139,
          936,
          1280,
          5105,
          9712,
          14518,
          28481,
          51537,
          76695,
          134426,
          217542,
          320819,
          361094,
          358262,
          324192,
          278709,
          276511,
          301472,
          332572,
          328930,
          328647,
          81869,
          227
         ],
         "yaxis": "y"
        },
        {
         "alignmentgroup": "True",
         "hovertemplate": "variant=Epsilon<br>date=%{x}<br>num_sequences=%{y}<extra></extra>",
         "legendgroup": "Epsilon",
         "marker": {
          "color": "#00cc96",
          "pattern": {
           "shape": ""
          }
         },
         "name": "Epsilon",
         "offsetgroup": "Epsilon",
         "orientation": "v",
         "showlegend": true,
         "textposition": "auto",
         "type": "bar",
         "x": [
          "2020-05-11",
          "2020-05-25",
          "2020-06-08",
          "2020-06-22",
          "2020-07-06",
          "2020-07-20",
          "2020-08-03",
          "2020-08-17",
          "2020-08-31",
          "2020-09-14",
          "2020-09-28",
          "2020-10-12",
          "2020-10-26",
          "2020-11-09",
          "2020-11-23",
          "2020-12-07",
          "2020-12-21",
          "2021-01-04",
          "2021-01-11",
          "2021-01-25",
          "2021-02-08",
          "2021-02-22",
          "2021-03-08",
          "2021-03-22",
          "2021-04-05",
          "2021-04-19",
          "2021-05-03",
          "2021-05-17",
          "2021-05-31",
          "2021-06-14",
          "2021-06-28",
          "2021-07-12",
          "2021-07-26",
          "2021-08-09",
          "2021-08-23",
          "2021-09-06",
          "2021-09-20",
          "2021-10-04",
          "2021-10-18",
          "2021-11-01",
          "2021-11-15",
          "2021-11-29",
          "2021-12-13",
          "2021-12-27",
          "2022-01-05"
         ],
         "xaxis": "x",
         "y": [
          0,
          0,
          0,
          0,
          0,
          0,
          0,
          1,
          1,
          6,
          11,
          22,
          45,
          99,
          195,
          559,
          2170,
          2066,
          3074,
          7446,
          8494,
          8038,
          7994,
          8524,
          7235,
          5133,
          2834,
          1344,
          416,
          148,
          65,
          23,
          11,
          7,
          79,
          3,
          81,
          0,
          2,
          0,
          0,
          0,
          1,
          0,
          0
         ],
         "yaxis": "y"
        },
        {
         "alignmentgroup": "True",
         "hovertemplate": "variant=Eta<br>date=%{x}<br>num_sequences=%{y}<extra></extra>",
         "legendgroup": "Eta",
         "marker": {
          "color": "#ab63fa",
          "pattern": {
           "shape": ""
          }
         },
         "name": "Eta",
         "offsetgroup": "Eta",
         "orientation": "v",
         "showlegend": true,
         "textposition": "auto",
         "type": "bar",
         "x": [
          "2020-05-11",
          "2020-05-25",
          "2020-06-08",
          "2020-06-22",
          "2020-07-06",
          "2020-07-20",
          "2020-08-03",
          "2020-08-17",
          "2020-08-31",
          "2020-09-14",
          "2020-09-28",
          "2020-10-12",
          "2020-10-26",
          "2020-11-09",
          "2020-11-23",
          "2020-12-07",
          "2020-12-21",
          "2021-01-04",
          "2021-01-11",
          "2021-01-25",
          "2021-02-08",
          "2021-02-22",
          "2021-03-08",
          "2021-03-22",
          "2021-04-05",
          "2021-04-19",
          "2021-05-03",
          "2021-05-17",
          "2021-05-31",
          "2021-06-14",
          "2021-06-28",
          "2021-07-12",
          "2021-07-26",
          "2021-08-09",
          "2021-08-23",
          "2021-09-06",
          "2021-09-20",
          "2021-10-04",
          "2021-10-18",
          "2021-11-01",
          "2021-11-15",
          "2021-11-29",
          "2021-12-13",
          "2021-12-27",
          "2022-01-05"
         ],
         "xaxis": "x",
         "y": [
          0,
          0,
          0,
          0,
          0,
          0,
          0,
          0,
          0,
          0,
          0,
          0,
          0,
          0,
          0,
          0,
          10,
          21,
          61,
          133,
          297,
          355,
          652,
          786,
          1305,
          1138,
          858,
          599,
          259,
          188,
          168,
          41,
          16,
          30,
          2,
          1,
          2,
          0,
          0,
          2,
          0,
          0,
          0,
          0,
          0
         ],
         "yaxis": "y"
        },
        {
         "alignmentgroup": "True",
         "hovertemplate": "variant=Gamma<br>date=%{x}<br>num_sequences=%{y}<extra></extra>",
         "legendgroup": "Gamma",
         "marker": {
          "color": "#FFA15A",
          "pattern": {
           "shape": ""
          }
         },
         "name": "Gamma",
         "offsetgroup": "Gamma",
         "orientation": "v",
         "showlegend": true,
         "textposition": "auto",
         "type": "bar",
         "x": [
          "2020-05-11",
          "2020-05-25",
          "2020-06-08",
          "2020-06-22",
          "2020-07-06",
          "2020-07-20",
          "2020-08-03",
          "2020-08-17",
          "2020-08-31",
          "2020-09-14",
          "2020-09-28",
          "2020-10-12",
          "2020-10-26",
          "2020-11-09",
          "2020-11-23",
          "2020-12-07",
          "2020-12-21",
          "2021-01-04",
          "2021-01-11",
          "2021-01-25",
          "2021-02-08",
          "2021-02-22",
          "2021-03-08",
          "2021-03-22",
          "2021-04-05",
          "2021-04-19",
          "2021-05-03",
          "2021-05-17",
          "2021-05-31",
          "2021-06-14",
          "2021-06-28",
          "2021-07-12",
          "2021-07-26",
          "2021-08-09",
          "2021-08-23",
          "2021-09-06",
          "2021-09-20",
          "2021-10-04",
          "2021-10-18",
          "2021-11-01",
          "2021-11-15",
          "2021-11-29",
          "2021-12-13",
          "2021-12-27",
          "2022-01-05"
         ],
         "xaxis": "x",
         "y": [
          0,
          0,
          0,
          0,
          0,
          0,
          0,
          0,
          0,
          0,
          0,
          0,
          0,
          2,
          3,
          6,
          29,
          142,
          113,
          275,
          486,
          1156,
          2039,
          3503,
          7445,
          12148,
          13433,
          12328,
          11128,
          11029,
          9094,
          9675,
          7891,
          6174,
          2921,
          1840,
          1117,
          552,
          310,
          178,
          68,
          59,
          12,
          0,
          0
         ],
         "yaxis": "y"
        },
        {
         "alignmentgroup": "True",
         "hovertemplate": "variant=Iota<br>date=%{x}<br>num_sequences=%{y}<extra></extra>",
         "legendgroup": "Iota",
         "marker": {
          "color": "#19d3f3",
          "pattern": {
           "shape": ""
          }
         },
         "name": "Iota",
         "offsetgroup": "Iota",
         "orientation": "v",
         "showlegend": true,
         "textposition": "auto",
         "type": "bar",
         "x": [
          "2020-05-11",
          "2020-05-25",
          "2020-06-08",
          "2020-06-22",
          "2020-07-06",
          "2020-07-20",
          "2020-08-03",
          "2020-08-17",
          "2020-08-31",
          "2020-09-14",
          "2020-09-28",
          "2020-10-12",
          "2020-10-26",
          "2020-11-09",
          "2020-11-23",
          "2020-12-07",
          "2020-12-21",
          "2021-01-04",
          "2021-01-11",
          "2021-01-25",
          "2021-02-08",
          "2021-02-22",
          "2021-03-08",
          "2021-03-22",
          "2021-04-05",
          "2021-04-19",
          "2021-05-03",
          "2021-05-17",
          "2021-05-31",
          "2021-06-14",
          "2021-06-28",
          "2021-07-12",
          "2021-07-26",
          "2021-08-09",
          "2021-08-23",
          "2021-09-06",
          "2021-09-20",
          "2021-10-04",
          "2021-10-18",
          "2021-11-01",
          "2021-11-15",
          "2021-11-29",
          "2021-12-13",
          "2021-12-27",
          "2022-01-05"
         ],
         "xaxis": "x",
         "y": [
          0,
          0,
          0,
          0,
          0,
          0,
          0,
          0,
          0,
          0,
          0,
          0,
          0,
          0,
          2,
          9,
          20,
          73,
          84,
          253,
          799,
          1289,
          2157,
          4587,
          7948,
          9160,
          7119,
          4619,
          2336,
          1174,
          581,
          369,
          193,
          73,
          34,
          14,
          8,
          2,
          1,
          0,
          0,
          0,
          1,
          0,
          0
         ],
         "yaxis": "y"
        },
        {
         "alignmentgroup": "True",
         "hovertemplate": "variant=Kappa<br>date=%{x}<br>num_sequences=%{y}<extra></extra>",
         "legendgroup": "Kappa",
         "marker": {
          "color": "#FF6692",
          "pattern": {
           "shape": ""
          }
         },
         "name": "Kappa",
         "offsetgroup": "Kappa",
         "orientation": "v",
         "showlegend": true,
         "textposition": "auto",
         "type": "bar",
         "x": [
          "2020-05-11",
          "2020-05-25",
          "2020-06-08",
          "2020-06-22",
          "2020-07-06",
          "2020-07-20",
          "2020-08-03",
          "2020-08-17",
          "2020-08-31",
          "2020-09-14",
          "2020-09-28",
          "2020-10-12",
          "2020-10-26",
          "2020-11-09",
          "2020-11-23",
          "2020-12-07",
          "2020-12-21",
          "2021-01-04",
          "2021-01-11",
          "2021-01-25",
          "2021-02-08",
          "2021-02-22",
          "2021-03-08",
          "2021-03-22",
          "2021-04-05",
          "2021-04-19",
          "2021-05-03",
          "2021-05-17",
          "2021-05-31",
          "2021-06-14",
          "2021-06-28",
          "2021-07-12",
          "2021-07-26",
          "2021-08-09",
          "2021-08-23",
          "2021-09-06",
          "2021-09-20",
          "2021-10-04",
          "2021-10-18",
          "2021-11-01",
          "2021-11-15",
          "2021-11-29",
          "2021-12-13",
          "2021-12-27",
          "2022-01-05"
         ],
         "xaxis": "x",
         "y": [
          0,
          0,
          0,
          0,
          0,
          0,
          0,
          0,
          0,
          0,
          0,
          0,
          0,
          0,
          0,
          3,
          5,
          13,
          7,
          9,
          44,
          194,
          541,
          1199,
          1745,
          1879,
          1015,
          342,
          255,
          110,
          59,
          23,
          7,
          3,
          6,
          5,
          12,
          0,
          0,
          0,
          0,
          0,
          1,
          0,
          0
         ],
         "yaxis": "y"
        },
        {
         "alignmentgroup": "True",
         "hovertemplate": "variant=Lambda<br>date=%{x}<br>num_sequences=%{y}<extra></extra>",
         "legendgroup": "Lambda",
         "marker": {
          "color": "#B6E880",
          "pattern": {
           "shape": ""
          }
         },
         "name": "Lambda",
         "offsetgroup": "Lambda",
         "orientation": "v",
         "showlegend": true,
         "textposition": "auto",
         "type": "bar",
         "x": [
          "2020-05-11",
          "2020-05-25",
          "2020-06-08",
          "2020-06-22",
          "2020-07-06",
          "2020-07-20",
          "2020-08-03",
          "2020-08-17",
          "2020-08-31",
          "2020-09-14",
          "2020-09-28",
          "2020-10-12",
          "2020-10-26",
          "2020-11-09",
          "2020-11-23",
          "2020-12-07",
          "2020-12-21",
          "2021-01-04",
          "2021-01-11",
          "2021-01-25",
          "2021-02-08",
          "2021-02-22",
          "2021-03-08",
          "2021-03-22",
          "2021-04-05",
          "2021-04-19",
          "2021-05-03",
          "2021-05-17",
          "2021-05-31",
          "2021-06-14",
          "2021-06-28",
          "2021-07-12",
          "2021-07-26",
          "2021-08-09",
          "2021-08-23",
          "2021-09-06",
          "2021-09-20",
          "2021-10-04",
          "2021-10-18",
          "2021-11-01",
          "2021-11-15",
          "2021-11-29",
          "2021-12-13",
          "2021-12-27",
          "2022-01-05"
         ],
         "xaxis": "x",
         "y": [
          0,
          0,
          0,
          0,
          0,
          0,
          0,
          0,
          0,
          0,
          0,
          0,
          0,
          1,
          0,
          0,
          0,
          2,
          2,
          35,
          37,
          67,
          141,
          292,
          368,
          804,
          760,
          790,
          609,
          1071,
          817,
          821,
          826,
          574,
          531,
          323,
          205,
          120,
          102,
          52,
          46,
          8,
          6,
          1,
          0
         ],
         "yaxis": "y"
        },
        {
         "alignmentgroup": "True",
         "hovertemplate": "variant=Mu<br>date=%{x}<br>num_sequences=%{y}<extra></extra>",
         "legendgroup": "Mu",
         "marker": {
          "color": "#FF97FF",
          "pattern": {
           "shape": ""
          }
         },
         "name": "Mu",
         "offsetgroup": "Mu",
         "orientation": "v",
         "showlegend": true,
         "textposition": "auto",
         "type": "bar",
         "x": [
          "2020-05-11",
          "2020-05-25",
          "2020-06-08",
          "2020-06-22",
          "2020-07-06",
          "2020-07-20",
          "2020-08-03",
          "2020-08-17",
          "2020-08-31",
          "2020-09-14",
          "2020-09-28",
          "2020-10-12",
          "2020-10-26",
          "2020-11-09",
          "2020-11-23",
          "2020-12-07",
          "2020-12-21",
          "2021-01-04",
          "2021-01-11",
          "2021-01-25",
          "2021-02-08",
          "2021-02-22",
          "2021-03-08",
          "2021-03-22",
          "2021-04-05",
          "2021-04-19",
          "2021-05-03",
          "2021-05-17",
          "2021-05-31",
          "2021-06-14",
          "2021-06-28",
          "2021-07-12",
          "2021-07-26",
          "2021-08-09",
          "2021-08-23",
          "2021-09-06",
          "2021-09-20",
          "2021-10-04",
          "2021-10-18",
          "2021-11-01",
          "2021-11-15",
          "2021-11-29",
          "2021-12-13",
          "2021-12-27",
          "2022-01-05"
         ],
         "xaxis": "x",
         "y": [
          0,
          0,
          0,
          0,
          0,
          0,
          0,
          0,
          0,
          0,
          0,
          0,
          0,
          0,
          0,
          0,
          1,
          0,
          1,
          2,
          0,
          1,
          19,
          37,
          111,
          408,
          503,
          698,
          783,
          1165,
          1298,
          1809,
          2398,
          1766,
          1112,
          844,
          510,
          426,
          154,
          91,
          72,
          26,
          7,
          6,
          0
         ],
         "yaxis": "y"
        },
        {
         "alignmentgroup": "True",
         "hovertemplate": "variant=Omicron<br>date=%{x}<br>num_sequences=%{y}<extra></extra>",
         "legendgroup": "Omicron",
         "marker": {
          "color": "#FECB52",
          "pattern": {
           "shape": ""
          }
         },
         "name": "Omicron",
         "offsetgroup": "Omicron",
         "orientation": "v",
         "showlegend": true,
         "textposition": "auto",
         "type": "bar",
         "x": [
          "2020-05-11",
          "2020-05-25",
          "2020-06-08",
          "2020-06-22",
          "2020-07-06",
          "2020-07-20",
          "2020-08-03",
          "2020-08-17",
          "2020-08-31",
          "2020-09-14",
          "2020-09-28",
          "2020-10-12",
          "2020-10-26",
          "2020-11-09",
          "2020-11-23",
          "2020-12-07",
          "2020-12-21",
          "2021-01-04",
          "2021-01-11",
          "2021-01-25",
          "2021-02-08",
          "2021-02-22",
          "2021-03-08",
          "2021-03-22",
          "2021-04-05",
          "2021-04-19",
          "2021-05-03",
          "2021-05-17",
          "2021-05-31",
          "2021-06-14",
          "2021-06-28",
          "2021-07-12",
          "2021-07-26",
          "2021-08-09",
          "2021-08-23",
          "2021-09-06",
          "2021-09-20",
          "2021-10-04",
          "2021-10-18",
          "2021-11-01",
          "2021-11-15",
          "2021-11-29",
          "2021-12-13",
          "2021-12-27",
          "2022-01-05"
         ],
         "xaxis": "x",
         "y": [
          0,
          0,
          0,
          0,
          0,
          0,
          0,
          0,
          0,
          0,
          0,
          0,
          0,
          0,
          0,
          0,
          0,
          0,
          0,
          0,
          0,
          0,
          0,
          0,
          0,
          0,
          0,
          0,
          0,
          0,
          0,
          0,
          0,
          0,
          0,
          0,
          0,
          0,
          1,
          4,
          42,
          1303,
          22643,
          90795,
          750
         ],
         "yaxis": "y"
        },
        {
         "alignmentgroup": "True",
         "hovertemplate": "variant=S:677H.Robin1<br>date=%{x}<br>num_sequences=%{y}<extra></extra>",
         "legendgroup": "S:677H.Robin1",
         "marker": {
          "color": "#636efa",
          "pattern": {
           "shape": ""
          }
         },
         "name": "S:677H.Robin1",
         "offsetgroup": "S:677H.Robin1",
         "orientation": "v",
         "showlegend": true,
         "textposition": "auto",
         "type": "bar",
         "x": [
          "2020-05-11",
          "2020-05-25",
          "2020-06-08",
          "2020-06-22",
          "2020-07-06",
          "2020-07-20",
          "2020-08-03",
          "2020-08-17",
          "2020-08-31",
          "2020-09-14",
          "2020-09-28",
          "2020-10-12",
          "2020-10-26",
          "2020-11-09",
          "2020-11-23",
          "2020-12-07",
          "2020-12-21",
          "2021-01-04",
          "2021-01-11",
          "2021-01-25",
          "2021-02-08",
          "2021-02-22",
          "2021-03-08",
          "2021-03-22",
          "2021-04-05",
          "2021-04-19",
          "2021-05-03",
          "2021-05-17",
          "2021-05-31",
          "2021-06-14",
          "2021-06-28",
          "2021-07-12",
          "2021-07-26",
          "2021-08-09",
          "2021-08-23",
          "2021-09-06",
          "2021-09-20",
          "2021-10-04",
          "2021-10-18",
          "2021-11-01",
          "2021-11-15",
          "2021-11-29",
          "2021-12-13",
          "2021-12-27",
          "2022-01-05"
         ],
         "xaxis": "x",
         "y": [
          0,
          0,
          0,
          0,
          0,
          0,
          0,
          1,
          13,
          21,
          63,
          32,
          57,
          142,
          175,
          185,
          303,
          549,
          434,
          798,
          665,
          820,
          803,
          696,
          439,
          239,
          65,
          24,
          14,
          1,
          0,
          3,
          0,
          1,
          1,
          1,
          0,
          0,
          0,
          0,
          0,
          1,
          1,
          0,
          0
         ],
         "yaxis": "y"
        },
        {
         "alignmentgroup": "True",
         "hovertemplate": "variant=S:677P.Pelican<br>date=%{x}<br>num_sequences=%{y}<extra></extra>",
         "legendgroup": "S:677P.Pelican",
         "marker": {
          "color": "#EF553B",
          "pattern": {
           "shape": ""
          }
         },
         "name": "S:677P.Pelican",
         "offsetgroup": "S:677P.Pelican",
         "orientation": "v",
         "showlegend": true,
         "textposition": "auto",
         "type": "bar",
         "x": [
          "2020-05-11",
          "2020-05-25",
          "2020-06-08",
          "2020-06-22",
          "2020-07-06",
          "2020-07-20",
          "2020-08-03",
          "2020-08-17",
          "2020-08-31",
          "2020-09-14",
          "2020-09-28",
          "2020-10-12",
          "2020-10-26",
          "2020-11-09",
          "2020-11-23",
          "2020-12-07",
          "2020-12-21",
          "2021-01-04",
          "2021-01-11",
          "2021-01-25",
          "2021-02-08",
          "2021-02-22",
          "2021-03-08",
          "2021-03-22",
          "2021-04-05",
          "2021-04-19",
          "2021-05-03",
          "2021-05-17",
          "2021-05-31",
          "2021-06-14",
          "2021-06-28",
          "2021-07-12",
          "2021-07-26",
          "2021-08-09",
          "2021-08-23",
          "2021-09-06",
          "2021-09-20",
          "2021-10-04",
          "2021-10-18",
          "2021-11-01",
          "2021-11-15",
          "2021-11-29",
          "2021-12-13",
          "2021-12-27",
          "2022-01-05"
         ],
         "xaxis": "x",
         "y": [
          0,
          0,
          0,
          0,
          0,
          0,
          1,
          0,
          0,
          0,
          0,
          0,
          9,
          38,
          55,
          94,
          367,
          336,
          320,
          689,
          590,
          598,
          739,
          470,
          250,
          153,
          63,
          24,
          8,
          2,
          1,
          0,
          0,
          1,
          0,
          6,
          23,
          0,
          0,
          0,
          0,
          0,
          0,
          0,
          0
         ],
         "yaxis": "y"
        },
        {
         "alignmentgroup": "True",
         "hovertemplate": "variant=non_who<br>date=%{x}<br>num_sequences=%{y}<extra></extra>",
         "legendgroup": "non_who",
         "marker": {
          "color": "#00cc96",
          "pattern": {
           "shape": ""
          }
         },
         "name": "non_who",
         "offsetgroup": "non_who",
         "orientation": "v",
         "showlegend": true,
         "textposition": "auto",
         "type": "bar",
         "x": [
          "2020-05-11",
          "2020-05-25",
          "2020-06-08",
          "2020-06-22",
          "2020-07-06",
          "2020-07-20",
          "2020-08-03",
          "2020-08-17",
          "2020-08-31",
          "2020-09-14",
          "2020-09-28",
          "2020-10-12",
          "2020-10-26",
          "2020-11-09",
          "2020-11-23",
          "2020-12-07",
          "2020-12-21",
          "2021-01-04",
          "2021-01-11",
          "2021-01-25",
          "2021-02-08",
          "2021-02-22",
          "2021-03-08",
          "2021-03-22",
          "2021-04-05",
          "2021-04-19",
          "2021-05-03",
          "2021-05-17",
          "2021-05-31",
          "2021-06-14",
          "2021-06-28",
          "2021-07-12",
          "2021-07-26",
          "2021-08-09",
          "2021-08-23",
          "2021-09-06",
          "2021-09-20",
          "2021-10-04",
          "2021-10-18",
          "2021-11-01",
          "2021-11-15",
          "2021-11-29",
          "2021-12-13",
          "2021-12-27",
          "2022-01-05"
         ],
         "xaxis": "x",
         "y": [
          16436,
          12903,
          9660,
          16160,
          15764,
          18421,
          19535,
          18469,
          17651,
          18102,
          23048,
          27008,
          35213,
          45424,
          45833,
          40239,
          58660,
          53848,
          35838,
          73089,
          62821,
          56462,
          48556,
          39910,
          30086,
          22680,
          15973,
          10814,
          6908,
          4959,
          3985,
          2958,
          2977,
          7890,
          5850,
          1105,
          904,
          635,
          621,
          598,
          933,
          931,
          628,
          611,
          2
         ],
         "yaxis": "y"
        },
        {
         "alignmentgroup": "True",
         "hovertemplate": "variant=others<br>date=%{x}<br>num_sequences=%{y}<extra></extra>",
         "legendgroup": "others",
         "marker": {
          "color": "#ab63fa",
          "pattern": {
           "shape": ""
          }
         },
         "name": "others",
         "offsetgroup": "others",
         "orientation": "v",
         "showlegend": true,
         "textposition": "auto",
         "type": "bar",
         "x": [
          "2020-05-11",
          "2020-05-25",
          "2020-06-08",
          "2020-06-22",
          "2020-07-06",
          "2020-07-20",
          "2020-08-03",
          "2020-08-17",
          "2020-08-31",
          "2020-09-14",
          "2020-09-28",
          "2020-10-12",
          "2020-10-26",
          "2020-11-09",
          "2020-11-23",
          "2020-12-07",
          "2020-12-21",
          "2021-01-04",
          "2021-01-11",
          "2021-01-25",
          "2021-02-08",
          "2021-02-22",
          "2021-03-08",
          "2021-03-22",
          "2021-04-05",
          "2021-04-19",
          "2021-05-03",
          "2021-05-17",
          "2021-05-31",
          "2021-06-14",
          "2021-06-28",
          "2021-07-12",
          "2021-07-26",
          "2021-08-09",
          "2021-08-23",
          "2021-09-06",
          "2021-09-20",
          "2021-10-04",
          "2021-10-18",
          "2021-11-01",
          "2021-11-15",
          "2021-11-29",
          "2021-12-13",
          "2021-12-27",
          "2022-01-05"
         ],
         "xaxis": "x",
         "y": [
          16433,
          12901,
          9657,
          16145,
          15676,
          18282,
          19147,
          17444,
          14937,
          13197,
          14303,
          15766,
          18041,
          23787,
          25613,
          24523,
          31151,
          31691,
          22975,
          45461,
          37834,
          35418,
          31736,
          28808,
          22956,
          17510,
          12625,
          8660,
          5831,
          4312,
          3644,
          2786,
          2861,
          7827,
          5823,
          1085,
          871,
          614,
          603,
          589,
          928,
          928,
          619,
          603,
          2
         ],
         "yaxis": "y"
        }
       ],
       "layout": {
        "barmode": "relative",
        "legend": {
         "title": {
          "text": "variant"
         },
         "tracegroupgap": 0
        },
        "margin": {
         "t": 60
        },
        "template": {
         "data": {
          "bar": [
           {
            "error_x": {
             "color": "#2a3f5f"
            },
            "error_y": {
             "color": "#2a3f5f"
            },
            "marker": {
             "line": {
              "color": "#E5ECF6",
              "width": 0.5
             },
             "pattern": {
              "fillmode": "overlay",
              "size": 10,
              "solidity": 0.2
             }
            },
            "type": "bar"
           }
          ],
          "barpolar": [
           {
            "marker": {
             "line": {
              "color": "#E5ECF6",
              "width": 0.5
             },
             "pattern": {
              "fillmode": "overlay",
              "size": 10,
              "solidity": 0.2
             }
            },
            "type": "barpolar"
           }
          ],
          "carpet": [
           {
            "aaxis": {
             "endlinecolor": "#2a3f5f",
             "gridcolor": "white",
             "linecolor": "white",
             "minorgridcolor": "white",
             "startlinecolor": "#2a3f5f"
            },
            "baxis": {
             "endlinecolor": "#2a3f5f",
             "gridcolor": "white",
             "linecolor": "white",
             "minorgridcolor": "white",
             "startlinecolor": "#2a3f5f"
            },
            "type": "carpet"
           }
          ],
          "choropleth": [
           {
            "colorbar": {
             "outlinewidth": 0,
             "ticks": ""
            },
            "type": "choropleth"
           }
          ],
          "contour": [
           {
            "colorbar": {
             "outlinewidth": 0,
             "ticks": ""
            },
            "colorscale": [
             [
              0,
              "#0d0887"
             ],
             [
              0.1111111111111111,
              "#46039f"
             ],
             [
              0.2222222222222222,
              "#7201a8"
             ],
             [
              0.3333333333333333,
              "#9c179e"
             ],
             [
              0.4444444444444444,
              "#bd3786"
             ],
             [
              0.5555555555555556,
              "#d8576b"
             ],
             [
              0.6666666666666666,
              "#ed7953"
             ],
             [
              0.7777777777777778,
              "#fb9f3a"
             ],
             [
              0.8888888888888888,
              "#fdca26"
             ],
             [
              1,
              "#f0f921"
             ]
            ],
            "type": "contour"
           }
          ],
          "contourcarpet": [
           {
            "colorbar": {
             "outlinewidth": 0,
             "ticks": ""
            },
            "type": "contourcarpet"
           }
          ],
          "heatmap": [
           {
            "colorbar": {
             "outlinewidth": 0,
             "ticks": ""
            },
            "colorscale": [
             [
              0,
              "#0d0887"
             ],
             [
              0.1111111111111111,
              "#46039f"
             ],
             [
              0.2222222222222222,
              "#7201a8"
             ],
             [
              0.3333333333333333,
              "#9c179e"
             ],
             [
              0.4444444444444444,
              "#bd3786"
             ],
             [
              0.5555555555555556,
              "#d8576b"
             ],
             [
              0.6666666666666666,
              "#ed7953"
             ],
             [
              0.7777777777777778,
              "#fb9f3a"
             ],
             [
              0.8888888888888888,
              "#fdca26"
             ],
             [
              1,
              "#f0f921"
             ]
            ],
            "type": "heatmap"
           }
          ],
          "heatmapgl": [
           {
            "colorbar": {
             "outlinewidth": 0,
             "ticks": ""
            },
            "colorscale": [
             [
              0,
              "#0d0887"
             ],
             [
              0.1111111111111111,
              "#46039f"
             ],
             [
              0.2222222222222222,
              "#7201a8"
             ],
             [
              0.3333333333333333,
              "#9c179e"
             ],
             [
              0.4444444444444444,
              "#bd3786"
             ],
             [
              0.5555555555555556,
              "#d8576b"
             ],
             [
              0.6666666666666666,
              "#ed7953"
             ],
             [
              0.7777777777777778,
              "#fb9f3a"
             ],
             [
              0.8888888888888888,
              "#fdca26"
             ],
             [
              1,
              "#f0f921"
             ]
            ],
            "type": "heatmapgl"
           }
          ],
          "histogram": [
           {
            "marker": {
             "pattern": {
              "fillmode": "overlay",
              "size": 10,
              "solidity": 0.2
             }
            },
            "type": "histogram"
           }
          ],
          "histogram2d": [
           {
            "colorbar": {
             "outlinewidth": 0,
             "ticks": ""
            },
            "colorscale": [
             [
              0,
              "#0d0887"
             ],
             [
              0.1111111111111111,
              "#46039f"
             ],
             [
              0.2222222222222222,
              "#7201a8"
             ],
             [
              0.3333333333333333,
              "#9c179e"
             ],
             [
              0.4444444444444444,
              "#bd3786"
             ],
             [
              0.5555555555555556,
              "#d8576b"
             ],
             [
              0.6666666666666666,
              "#ed7953"
             ],
             [
              0.7777777777777778,
              "#fb9f3a"
             ],
             [
              0.8888888888888888,
              "#fdca26"
             ],
             [
              1,
              "#f0f921"
             ]
            ],
            "type": "histogram2d"
           }
          ],
          "histogram2dcontour": [
           {
            "colorbar": {
             "outlinewidth": 0,
             "ticks": ""
            },
            "colorscale": [
             [
              0,
              "#0d0887"
             ],
             [
              0.1111111111111111,
              "#46039f"
             ],
             [
              0.2222222222222222,
              "#7201a8"
             ],
             [
              0.3333333333333333,
              "#9c179e"
             ],
             [
              0.4444444444444444,
              "#bd3786"
             ],
             [
              0.5555555555555556,
              "#d8576b"
             ],
             [
              0.6666666666666666,
              "#ed7953"
             ],
             [
              0.7777777777777778,
              "#fb9f3a"
             ],
             [
              0.8888888888888888,
              "#fdca26"
             ],
             [
              1,
              "#f0f921"
             ]
            ],
            "type": "histogram2dcontour"
           }
          ],
          "mesh3d": [
           {
            "colorbar": {
             "outlinewidth": 0,
             "ticks": ""
            },
            "type": "mesh3d"
           }
          ],
          "parcoords": [
           {
            "line": {
             "colorbar": {
              "outlinewidth": 0,
              "ticks": ""
             }
            },
            "type": "parcoords"
           }
          ],
          "pie": [
           {
            "automargin": true,
            "type": "pie"
           }
          ],
          "scatter": [
           {
            "fillpattern": {
             "fillmode": "overlay",
             "size": 10,
             "solidity": 0.2
            },
            "type": "scatter"
           }
          ],
          "scatter3d": [
           {
            "line": {
             "colorbar": {
              "outlinewidth": 0,
              "ticks": ""
             }
            },
            "marker": {
             "colorbar": {
              "outlinewidth": 0,
              "ticks": ""
             }
            },
            "type": "scatter3d"
           }
          ],
          "scattercarpet": [
           {
            "marker": {
             "colorbar": {
              "outlinewidth": 0,
              "ticks": ""
             }
            },
            "type": "scattercarpet"
           }
          ],
          "scattergeo": [
           {
            "marker": {
             "colorbar": {
              "outlinewidth": 0,
              "ticks": ""
             }
            },
            "type": "scattergeo"
           }
          ],
          "scattergl": [
           {
            "marker": {
             "colorbar": {
              "outlinewidth": 0,
              "ticks": ""
             }
            },
            "type": "scattergl"
           }
          ],
          "scattermapbox": [
           {
            "marker": {
             "colorbar": {
              "outlinewidth": 0,
              "ticks": ""
             }
            },
            "type": "scattermapbox"
           }
          ],
          "scatterpolar": [
           {
            "marker": {
             "colorbar": {
              "outlinewidth": 0,
              "ticks": ""
             }
            },
            "type": "scatterpolar"
           }
          ],
          "scatterpolargl": [
           {
            "marker": {
             "colorbar": {
              "outlinewidth": 0,
              "ticks": ""
             }
            },
            "type": "scatterpolargl"
           }
          ],
          "scatterternary": [
           {
            "marker": {
             "colorbar": {
              "outlinewidth": 0,
              "ticks": ""
             }
            },
            "type": "scatterternary"
           }
          ],
          "surface": [
           {
            "colorbar": {
             "outlinewidth": 0,
             "ticks": ""
            },
            "colorscale": [
             [
              0,
              "#0d0887"
             ],
             [
              0.1111111111111111,
              "#46039f"
             ],
             [
              0.2222222222222222,
              "#7201a8"
             ],
             [
              0.3333333333333333,
              "#9c179e"
             ],
             [
              0.4444444444444444,
              "#bd3786"
             ],
             [
              0.5555555555555556,
              "#d8576b"
             ],
             [
              0.6666666666666666,
              "#ed7953"
             ],
             [
              0.7777777777777778,
              "#fb9f3a"
             ],
             [
              0.8888888888888888,
              "#fdca26"
             ],
             [
              1,
              "#f0f921"
             ]
            ],
            "type": "surface"
           }
          ],
          "table": [
           {
            "cells": {
             "fill": {
              "color": "#EBF0F8"
             },
             "line": {
              "color": "white"
             }
            },
            "header": {
             "fill": {
              "color": "#C8D4E3"
             },
             "line": {
              "color": "white"
             }
            },
            "type": "table"
           }
          ]
         },
         "layout": {
          "annotationdefaults": {
           "arrowcolor": "#2a3f5f",
           "arrowhead": 0,
           "arrowwidth": 1
          },
          "autotypenumbers": "strict",
          "coloraxis": {
           "colorbar": {
            "outlinewidth": 0,
            "ticks": ""
           }
          },
          "colorscale": {
           "diverging": [
            [
             0,
             "#8e0152"
            ],
            [
             0.1,
             "#c51b7d"
            ],
            [
             0.2,
             "#de77ae"
            ],
            [
             0.3,
             "#f1b6da"
            ],
            [
             0.4,
             "#fde0ef"
            ],
            [
             0.5,
             "#f7f7f7"
            ],
            [
             0.6,
             "#e6f5d0"
            ],
            [
             0.7,
             "#b8e186"
            ],
            [
             0.8,
             "#7fbc41"
            ],
            [
             0.9,
             "#4d9221"
            ],
            [
             1,
             "#276419"
            ]
           ],
           "sequential": [
            [
             0,
             "#0d0887"
            ],
            [
             0.1111111111111111,
             "#46039f"
            ],
            [
             0.2222222222222222,
             "#7201a8"
            ],
            [
             0.3333333333333333,
             "#9c179e"
            ],
            [
             0.4444444444444444,
             "#bd3786"
            ],
            [
             0.5555555555555556,
             "#d8576b"
            ],
            [
             0.6666666666666666,
             "#ed7953"
            ],
            [
             0.7777777777777778,
             "#fb9f3a"
            ],
            [
             0.8888888888888888,
             "#fdca26"
            ],
            [
             1,
             "#f0f921"
            ]
           ],
           "sequentialminus": [
            [
             0,
             "#0d0887"
            ],
            [
             0.1111111111111111,
             "#46039f"
            ],
            [
             0.2222222222222222,
             "#7201a8"
            ],
            [
             0.3333333333333333,
             "#9c179e"
            ],
            [
             0.4444444444444444,
             "#bd3786"
            ],
            [
             0.5555555555555556,
             "#d8576b"
            ],
            [
             0.6666666666666666,
             "#ed7953"
            ],
            [
             0.7777777777777778,
             "#fb9f3a"
            ],
            [
             0.8888888888888888,
             "#fdca26"
            ],
            [
             1,
             "#f0f921"
            ]
           ]
          },
          "colorway": [
           "#636efa",
           "#EF553B",
           "#00cc96",
           "#ab63fa",
           "#FFA15A",
           "#19d3f3",
           "#FF6692",
           "#B6E880",
           "#FF97FF",
           "#FECB52"
          ],
          "font": {
           "color": "#2a3f5f"
          },
          "geo": {
           "bgcolor": "white",
           "lakecolor": "white",
           "landcolor": "#E5ECF6",
           "showlakes": true,
           "showland": true,
           "subunitcolor": "white"
          },
          "hoverlabel": {
           "align": "left"
          },
          "hovermode": "closest",
          "mapbox": {
           "style": "light"
          },
          "paper_bgcolor": "white",
          "plot_bgcolor": "#E5ECF6",
          "polar": {
           "angularaxis": {
            "gridcolor": "white",
            "linecolor": "white",
            "ticks": ""
           },
           "bgcolor": "#E5ECF6",
           "radialaxis": {
            "gridcolor": "white",
            "linecolor": "white",
            "ticks": ""
           }
          },
          "scene": {
           "xaxis": {
            "backgroundcolor": "#E5ECF6",
            "gridcolor": "white",
            "gridwidth": 2,
            "linecolor": "white",
            "showbackground": true,
            "ticks": "",
            "zerolinecolor": "white"
           },
           "yaxis": {
            "backgroundcolor": "#E5ECF6",
            "gridcolor": "white",
            "gridwidth": 2,
            "linecolor": "white",
            "showbackground": true,
            "ticks": "",
            "zerolinecolor": "white"
           },
           "zaxis": {
            "backgroundcolor": "#E5ECF6",
            "gridcolor": "white",
            "gridwidth": 2,
            "linecolor": "white",
            "showbackground": true,
            "ticks": "",
            "zerolinecolor": "white"
           }
          },
          "shapedefaults": {
           "line": {
            "color": "#2a3f5f"
           }
          },
          "ternary": {
           "aaxis": {
            "gridcolor": "white",
            "linecolor": "white",
            "ticks": ""
           },
           "baxis": {
            "gridcolor": "white",
            "linecolor": "white",
            "ticks": ""
           },
           "bgcolor": "#E5ECF6",
           "caxis": {
            "gridcolor": "white",
            "linecolor": "white",
            "ticks": ""
           }
          },
          "title": {
           "x": 0.05
          },
          "xaxis": {
           "automargin": true,
           "gridcolor": "white",
           "linecolor": "white",
           "ticks": "",
           "title": {
            "standoff": 15
           },
           "zerolinecolor": "white",
           "zerolinewidth": 2
          },
          "yaxis": {
           "automargin": true,
           "gridcolor": "white",
           "linecolor": "white",
           "ticks": "",
           "title": {
            "standoff": 15
           },
           "zerolinecolor": "white",
           "zerolinewidth": 2
          }
         }
        },
        "title": {
         "text": "Virus Variants By Date"
        },
        "xaxis": {
         "anchor": "y",
         "domain": [
          0,
          1
         ],
         "title": {
          "text": "Date"
         }
        },
        "yaxis": {
         "anchor": "x",
         "domain": [
          0,
          1
         ],
         "title": {
          "text": "Sequence"
         }
        }
       }
      },
      "text/html": [
       "<div>                            <div id=\"b731acdc-b846-4e3a-8fc9-cf733cfc32c1\" class=\"plotly-graph-div\" style=\"height:525px; width:100%;\"></div>            <script type=\"text/javascript\">                require([\"plotly\"], function(Plotly) {                    window.PLOTLYENV=window.PLOTLYENV || {};                                    if (document.getElementById(\"b731acdc-b846-4e3a-8fc9-cf733cfc32c1\")) {                    Plotly.newPlot(                        \"b731acdc-b846-4e3a-8fc9-cf733cfc32c1\",                        [{\"alignmentgroup\":\"True\",\"hovertemplate\":\"variant=Alpha<br>date=%{x}<br>num_sequences=%{y}<extra></extra>\",\"legendgroup\":\"Alpha\",\"marker\":{\"color\":\"#636efa\",\"pattern\":{\"shape\":\"\"}},\"name\":\"Alpha\",\"offsetgroup\":\"Alpha\",\"orientation\":\"v\",\"showlegend\":true,\"textposition\":\"auto\",\"x\":[\"2020-05-11\",\"2020-05-25\",\"2020-06-08\",\"2020-06-22\",\"2020-07-06\",\"2020-07-20\",\"2020-08-03\",\"2020-08-17\",\"2020-08-31\",\"2020-09-14\",\"2020-09-28\",\"2020-10-12\",\"2020-10-26\",\"2020-11-09\",\"2020-11-23\",\"2020-12-07\",\"2020-12-21\",\"2021-01-04\",\"2021-01-11\",\"2021-01-25\",\"2021-02-08\",\"2021-02-22\",\"2021-03-08\",\"2021-03-22\",\"2021-04-05\",\"2021-04-19\",\"2021-05-03\",\"2021-05-17\",\"2021-05-31\",\"2021-06-14\",\"2021-06-28\",\"2021-07-12\",\"2021-07-26\",\"2021-08-09\",\"2021-08-23\",\"2021-09-06\",\"2021-09-20\",\"2021-10-04\",\"2021-10-18\",\"2021-11-01\",\"2021-11-15\",\"2021-11-29\",\"2021-12-13\",\"2021-12-27\",\"2022-01-05\"],\"xaxis\":\"x\",\"y\":[0,0,0,0,0,0,0,0,0,0,3,15,47,381,1450,1128,9061,14002,12101,33497,48817,63335,85363,122805,137566,142801,141711,120332,82479,50137,27240,16749,10348,6747,2893,834,291,103,136,43,36,123,17,4,0],\"yaxis\":\"y\",\"type\":\"bar\"},{\"alignmentgroup\":\"True\",\"hovertemplate\":\"variant=B.1.1.277<br>date=%{x}<br>num_sequences=%{y}<extra></extra>\",\"legendgroup\":\"B.1.1.277\",\"marker\":{\"color\":\"#EF553B\",\"pattern\":{\"shape\":\"\"}},\"name\":\"B.1.1.277\",\"offsetgroup\":\"B.1.1.277\",\"orientation\":\"v\",\"showlegend\":true,\"textposition\":\"auto\",\"x\":[\"2020-05-11\",\"2020-05-25\",\"2020-06-08\",\"2020-06-22\",\"2020-07-06\",\"2020-07-20\",\"2020-08-03\",\"2020-08-17\",\"2020-08-31\",\"2020-09-14\",\"2020-09-28\",\"2020-10-12\",\"2020-10-26\",\"2020-11-09\",\"2020-11-23\",\"2020-12-07\",\"2020-12-21\",\"2021-01-04\",\"2021-01-11\",\"2021-01-25\",\"2021-02-08\",\"2021-02-22\",\"2021-03-08\",\"2021-03-22\",\"2021-04-05\",\"2021-04-19\",\"2021-05-03\",\"2021-05-17\",\"2021-05-31\",\"2021-06-14\",\"2021-06-28\",\"2021-07-12\",\"2021-07-26\",\"2021-08-09\",\"2021-08-23\",\"2021-09-06\",\"2021-09-20\",\"2021-10-04\",\"2021-10-18\",\"2021-11-01\",\"2021-11-15\",\"2021-11-29\",\"2021-12-13\",\"2021-12-27\",\"2022-01-05\"],\"xaxis\":\"x\",\"y\":[0,0,0,0,0,7,12,43,94,143,178,120,155,180,72,42,28,29,10,20,21,12,9,3,0,1,0,0,0,0,0,2,2,0,0,0,0,0,0,0,0,0,0,0,0],\"yaxis\":\"y\",\"type\":\"bar\"},{\"alignmentgroup\":\"True\",\"hovertemplate\":\"variant=B.1.1.302<br>date=%{x}<br>num_sequences=%{y}<extra></extra>\",\"legendgroup\":\"B.1.1.302\",\"marker\":{\"color\":\"#00cc96\",\"pattern\":{\"shape\":\"\"}},\"name\":\"B.1.1.302\",\"offsetgroup\":\"B.1.1.302\",\"orientation\":\"v\",\"showlegend\":true,\"textposition\":\"auto\",\"x\":[\"2020-05-11\",\"2020-05-25\",\"2020-06-08\",\"2020-06-22\",\"2020-07-06\",\"2020-07-20\",\"2020-08-03\",\"2020-08-17\",\"2020-08-31\",\"2020-09-14\",\"2020-09-28\",\"2020-10-12\",\"2020-10-26\",\"2020-11-09\",\"2020-11-23\",\"2020-12-07\",\"2020-12-21\",\"2021-01-04\",\"2021-01-11\",\"2021-01-25\",\"2021-02-08\",\"2021-02-22\",\"2021-03-08\",\"2021-03-22\",\"2021-04-05\",\"2021-04-19\",\"2021-05-03\",\"2021-05-17\",\"2021-05-31\",\"2021-06-14\",\"2021-06-28\",\"2021-07-12\",\"2021-07-26\",\"2021-08-09\",\"2021-08-23\",\"2021-09-06\",\"2021-09-20\",\"2021-10-04\",\"2021-10-18\",\"2021-11-01\",\"2021-11-15\",\"2021-11-29\",\"2021-12-13\",\"2021-12-27\",\"2022-01-05\"],\"xaxis\":\"x\",\"y\":[0,0,0,0,0,3,8,12,24,32,27,31,21,21,27,29,42,21,7,45,33,51,42,4,5,0,0,0,0,0,0,0,0,0,0,0,0,0,0,1,0,0,0,0,0],\"yaxis\":\"y\",\"type\":\"bar\"},{\"alignmentgroup\":\"True\",\"hovertemplate\":\"variant=B.1.1.519<br>date=%{x}<br>num_sequences=%{y}<extra></extra>\",\"legendgroup\":\"B.1.1.519\",\"marker\":{\"color\":\"#ab63fa\",\"pattern\":{\"shape\":\"\"}},\"name\":\"B.1.1.519\",\"offsetgroup\":\"B.1.1.519\",\"orientation\":\"v\",\"showlegend\":true,\"textposition\":\"auto\",\"x\":[\"2020-05-11\",\"2020-05-25\",\"2020-06-08\",\"2020-06-22\",\"2020-07-06\",\"2020-07-20\",\"2020-08-03\",\"2020-08-17\",\"2020-08-31\",\"2020-09-14\",\"2020-09-28\",\"2020-10-12\",\"2020-10-26\",\"2020-11-09\",\"2020-11-23\",\"2020-12-07\",\"2020-12-21\",\"2021-01-04\",\"2021-01-11\",\"2021-01-25\",\"2021-02-08\",\"2021-02-22\",\"2021-03-08\",\"2021-03-22\",\"2021-04-05\",\"2021-04-19\",\"2021-05-03\",\"2021-05-17\",\"2021-05-31\",\"2021-06-14\",\"2021-06-28\",\"2021-07-12\",\"2021-07-26\",\"2021-08-09\",\"2021-08-23\",\"2021-09-06\",\"2021-09-20\",\"2021-10-04\",\"2021-10-18\",\"2021-11-01\",\"2021-11-15\",\"2021-11-29\",\"2021-12-13\",\"2021-12-27\",\"2022-01-05\"],\"xaxis\":\"x\",\"y\":[0,0,0,0,0,0,0,0,0,0,0,0,1,5,17,34,82,184,244,925,1067,2124,2961,3100,3420,3241,2276,1573,800,426,231,74,18,9,2,3,5,0,0,2,1,0,0,0,0],\"yaxis\":\"y\",\"type\":\"bar\"},{\"alignmentgroup\":\"True\",\"hovertemplate\":\"variant=B.1.160<br>date=%{x}<br>num_sequences=%{y}<extra></extra>\",\"legendgroup\":\"B.1.160\",\"marker\":{\"color\":\"#FFA15A\",\"pattern\":{\"shape\":\"\"}},\"name\":\"B.1.160\",\"offsetgroup\":\"B.1.160\",\"orientation\":\"v\",\"showlegend\":true,\"textposition\":\"auto\",\"x\":[\"2020-05-11\",\"2020-05-25\",\"2020-06-08\",\"2020-06-22\",\"2020-07-06\",\"2020-07-20\",\"2020-08-03\",\"2020-08-17\",\"2020-08-31\",\"2020-09-14\",\"2020-09-28\",\"2020-10-12\",\"2020-10-26\",\"2020-11-09\",\"2020-11-23\",\"2020-12-07\",\"2020-12-21\",\"2021-01-04\",\"2021-01-11\",\"2021-01-25\",\"2021-02-08\",\"2021-02-22\",\"2021-03-08\",\"2021-03-22\",\"2021-04-05\",\"2021-04-19\",\"2021-05-03\",\"2021-05-17\",\"2021-05-31\",\"2021-06-14\",\"2021-06-28\",\"2021-07-12\",\"2021-07-26\",\"2021-08-09\",\"2021-08-23\",\"2021-09-06\",\"2021-09-20\",\"2021-10-04\",\"2021-10-18\",\"2021-11-01\",\"2021-11-15\",\"2021-11-29\",\"2021-12-13\",\"2021-12-27\",\"2022-01-05\"],\"xaxis\":\"x\",\"y\":[0,0,0,0,0,8,22,89,386,1017,1049,1188,2017,2773,2274,2029,3110,2934,1838,4164,3587,2362,1585,838,351,134,85,44,15,15,9,28,26,11,10,3,0,4,1,3,1,0,2,7,0],\"yaxis\":\"y\",\"type\":\"bar\"},{\"alignmentgroup\":\"True\",\"hovertemplate\":\"variant=B.1.177<br>date=%{x}<br>num_sequences=%{y}<extra></extra>\",\"legendgroup\":\"B.1.177\",\"marker\":{\"color\":\"#19d3f3\",\"pattern\":{\"shape\":\"\"}},\"name\":\"B.1.177\",\"offsetgroup\":\"B.1.177\",\"orientation\":\"v\",\"showlegend\":true,\"textposition\":\"auto\",\"x\":[\"2020-05-11\",\"2020-05-25\",\"2020-06-08\",\"2020-06-22\",\"2020-07-06\",\"2020-07-20\",\"2020-08-03\",\"2020-08-17\",\"2020-08-31\",\"2020-09-14\",\"2020-09-28\",\"2020-10-12\",\"2020-10-26\",\"2020-11-09\",\"2020-11-23\",\"2020-12-07\",\"2020-12-21\",\"2021-01-04\",\"2021-01-11\",\"2021-01-25\",\"2021-02-08\",\"2021-02-22\",\"2021-03-08\",\"2021-03-22\",\"2021-04-05\",\"2021-04-19\",\"2021-05-03\",\"2021-05-17\",\"2021-05-31\",\"2021-06-14\",\"2021-06-28\",\"2021-07-12\",\"2021-07-26\",\"2021-08-09\",\"2021-08-23\",\"2021-09-06\",\"2021-09-20\",\"2021-10-04\",\"2021-10-18\",\"2021-11-01\",\"2021-11-15\",\"2021-11-29\",\"2021-12-13\",\"2021-12-27\",\"2022-01-05\"],\"xaxis\":\"x\",\"y\":[2,0,2,8,72,88,172,499,1400,2923,6225,8693,13008,15723,15622,10489,19350,14161,7598,16292,13285,10588,6975,3935,1578,813,491,252,65,41,9,19,17,15,6,2,1,14,15,1,3,2,2,1,0],\"yaxis\":\"y\",\"type\":\"bar\"},{\"alignmentgroup\":\"True\",\"hovertemplate\":\"variant=B.1.221<br>date=%{x}<br>num_sequences=%{y}<extra></extra>\",\"legendgroup\":\"B.1.221\",\"marker\":{\"color\":\"#FF6692\",\"pattern\":{\"shape\":\"\"}},\"name\":\"B.1.221\",\"offsetgroup\":\"B.1.221\",\"orientation\":\"v\",\"showlegend\":true,\"textposition\":\"auto\",\"x\":[\"2020-05-11\",\"2020-05-25\",\"2020-06-08\",\"2020-06-22\",\"2020-07-06\",\"2020-07-20\",\"2020-08-03\",\"2020-08-17\",\"2020-08-31\",\"2020-09-14\",\"2020-09-28\",\"2020-10-12\",\"2020-10-26\",\"2020-11-09\",\"2020-11-23\",\"2020-12-07\",\"2020-12-21\",\"2021-01-04\",\"2021-01-11\",\"2021-01-25\",\"2021-02-08\",\"2021-02-22\",\"2021-03-08\",\"2021-03-22\",\"2021-04-05\",\"2021-04-19\",\"2021-05-03\",\"2021-05-17\",\"2021-05-31\",\"2021-06-14\",\"2021-06-28\",\"2021-07-12\",\"2021-07-26\",\"2021-08-09\",\"2021-08-23\",\"2021-09-06\",\"2021-09-20\",\"2021-10-04\",\"2021-10-18\",\"2021-11-01\",\"2021-11-15\",\"2021-11-29\",\"2021-12-13\",\"2021-12-27\",\"2022-01-05\"],\"xaxis\":\"x\",\"y\":[0,0,0,5,1,5,43,89,173,193,321,307,634,682,737,908,1442,1255,743,2079,2236,1630,1076,531,184,58,22,7,7,0,3,1,1,0,0,0,0,1,0,1,0,0,2,0,0],\"yaxis\":\"y\",\"type\":\"bar\"},{\"alignmentgroup\":\"True\",\"hovertemplate\":\"variant=B.1.258<br>date=%{x}<br>num_sequences=%{y}<extra></extra>\",\"legendgroup\":\"B.1.258\",\"marker\":{\"color\":\"#B6E880\",\"pattern\":{\"shape\":\"\"}},\"name\":\"B.1.258\",\"offsetgroup\":\"B.1.258\",\"orientation\":\"v\",\"showlegend\":true,\"textposition\":\"auto\",\"x\":[\"2020-05-11\",\"2020-05-25\",\"2020-06-08\",\"2020-06-22\",\"2020-07-06\",\"2020-07-20\",\"2020-08-03\",\"2020-08-17\",\"2020-08-31\",\"2020-09-14\",\"2020-09-28\",\"2020-10-12\",\"2020-10-26\",\"2020-11-09\",\"2020-11-23\",\"2020-12-07\",\"2020-12-21\",\"2021-01-04\",\"2021-01-11\",\"2021-01-25\",\"2021-02-08\",\"2021-02-22\",\"2021-03-08\",\"2021-03-22\",\"2021-04-05\",\"2021-04-19\",\"2021-05-03\",\"2021-05-17\",\"2021-05-31\",\"2021-06-14\",\"2021-06-28\",\"2021-07-12\",\"2021-07-26\",\"2021-08-09\",\"2021-08-23\",\"2021-09-06\",\"2021-09-20\",\"2021-10-04\",\"2021-10-18\",\"2021-11-01\",\"2021-11-15\",\"2021-11-29\",\"2021-12-13\",\"2021-12-27\",\"2022-01-05\"],\"xaxis\":\"x\",\"y\":[1,2,1,2,15,27,112,185,408,377,784,785,1219,2034,1213,1885,2763,2670,1666,2591,3500,2845,2614,1501,837,408,221,75,17,8,7,5,1,1,1,1,0,1,2,1,0,0,1,0,0],\"yaxis\":\"y\",\"type\":\"bar\"},{\"alignmentgroup\":\"True\",\"hovertemplate\":\"variant=B.1.367<br>date=%{x}<br>num_sequences=%{y}<extra></extra>\",\"legendgroup\":\"B.1.367\",\"marker\":{\"color\":\"#FF97FF\",\"pattern\":{\"shape\":\"\"}},\"name\":\"B.1.367\",\"offsetgroup\":\"B.1.367\",\"orientation\":\"v\",\"showlegend\":true,\"textposition\":\"auto\",\"x\":[\"2020-05-11\",\"2020-05-25\",\"2020-06-08\",\"2020-06-22\",\"2020-07-06\",\"2020-07-20\",\"2020-08-03\",\"2020-08-17\",\"2020-08-31\",\"2020-09-14\",\"2020-09-28\",\"2020-10-12\",\"2020-10-26\",\"2020-11-09\",\"2020-11-23\",\"2020-12-07\",\"2020-12-21\",\"2021-01-04\",\"2021-01-11\",\"2021-01-25\",\"2021-02-08\",\"2021-02-22\",\"2021-03-08\",\"2021-03-22\",\"2021-04-05\",\"2021-04-19\",\"2021-05-03\",\"2021-05-17\",\"2021-05-31\",\"2021-06-14\",\"2021-06-28\",\"2021-07-12\",\"2021-07-26\",\"2021-08-09\",\"2021-08-23\",\"2021-09-06\",\"2021-09-20\",\"2021-10-04\",\"2021-10-18\",\"2021-11-01\",\"2021-11-15\",\"2021-11-29\",\"2021-12-13\",\"2021-12-27\",\"2022-01-05\"],\"xaxis\":\"x\",\"y\":[0,0,0,0,0,1,18,107,216,199,98,86,51,39,28,21,22,18,3,25,3,13,5,0,2,1,0,0,0,0,0,0,0,0,0,1,2,1,0,0,0,0,1,0,0],\"yaxis\":\"y\",\"type\":\"bar\"},{\"alignmentgroup\":\"True\",\"hovertemplate\":\"variant=B.1.620<br>date=%{x}<br>num_sequences=%{y}<extra></extra>\",\"legendgroup\":\"B.1.620\",\"marker\":{\"color\":\"#FECB52\",\"pattern\":{\"shape\":\"\"}},\"name\":\"B.1.620\",\"offsetgroup\":\"B.1.620\",\"orientation\":\"v\",\"showlegend\":true,\"textposition\":\"auto\",\"x\":[\"2020-05-11\",\"2020-05-25\",\"2020-06-08\",\"2020-06-22\",\"2020-07-06\",\"2020-07-20\",\"2020-08-03\",\"2020-08-17\",\"2020-08-31\",\"2020-09-14\",\"2020-09-28\",\"2020-10-12\",\"2020-10-26\",\"2020-11-09\",\"2020-11-23\",\"2020-12-07\",\"2020-12-21\",\"2021-01-04\",\"2021-01-11\",\"2021-01-25\",\"2021-02-08\",\"2021-02-22\",\"2021-03-08\",\"2021-03-22\",\"2021-04-05\",\"2021-04-19\",\"2021-05-03\",\"2021-05-17\",\"2021-05-31\",\"2021-06-14\",\"2021-06-28\",\"2021-07-12\",\"2021-07-26\",\"2021-08-09\",\"2021-08-23\",\"2021-09-06\",\"2021-09-20\",\"2021-10-04\",\"2021-10-18\",\"2021-11-01\",\"2021-11-15\",\"2021-11-29\",\"2021-12-13\",\"2021-12-27\",\"2022-01-05\"],\"xaxis\":\"x\",\"y\":[0,0,0,0,0,0,0,0,0,0,0,0,0,0,0,0,0,0,0,0,0,1,11,24,64,122,125,155,151,154,81,40,51,25,7,3,2,0,0,0,0,0,0,0,0],\"yaxis\":\"y\",\"type\":\"bar\"},{\"alignmentgroup\":\"True\",\"hovertemplate\":\"variant=Beta<br>date=%{x}<br>num_sequences=%{y}<extra></extra>\",\"legendgroup\":\"Beta\",\"marker\":{\"color\":\"#636efa\",\"pattern\":{\"shape\":\"\"}},\"name\":\"Beta\",\"offsetgroup\":\"Beta\",\"orientation\":\"v\",\"showlegend\":true,\"textposition\":\"auto\",\"x\":[\"2020-05-11\",\"2020-05-25\",\"2020-06-08\",\"2020-06-22\",\"2020-07-06\",\"2020-07-20\",\"2020-08-03\",\"2020-08-17\",\"2020-08-31\",\"2020-09-14\",\"2020-09-28\",\"2020-10-12\",\"2020-10-26\",\"2020-11-09\",\"2020-11-23\",\"2020-12-07\",\"2020-12-21\",\"2021-01-04\",\"2021-01-11\",\"2021-01-25\",\"2021-02-08\",\"2021-02-22\",\"2021-03-08\",\"2021-03-22\",\"2021-04-05\",\"2021-04-19\",\"2021-05-03\",\"2021-05-17\",\"2021-05-31\",\"2021-06-14\",\"2021-06-28\",\"2021-07-12\",\"2021-07-26\",\"2021-08-09\",\"2021-08-23\",\"2021-09-06\",\"2021-09-20\",\"2021-10-04\",\"2021-10-18\",\"2021-11-01\",\"2021-11-15\",\"2021-11-29\",\"2021-12-13\",\"2021-12-27\",\"2022-01-05\"],\"xaxis\":\"x\",\"y\":[0,0,0,0,0,0,0,1,21,46,71,88,148,282,306,446,650,1139,903,1601,1840,2395,3082,4606,4652,3897,3336,2627,1854,1586,1434,1831,1007,417,148,50,15,10,6,4,9,3,3,0,0],\"yaxis\":\"y\",\"type\":\"bar\"},{\"alignmentgroup\":\"True\",\"hovertemplate\":\"variant=Delta<br>date=%{x}<br>num_sequences=%{y}<extra></extra>\",\"legendgroup\":\"Delta\",\"marker\":{\"color\":\"#EF553B\",\"pattern\":{\"shape\":\"\"}},\"name\":\"Delta\",\"offsetgroup\":\"Delta\",\"orientation\":\"v\",\"showlegend\":true,\"textposition\":\"auto\",\"x\":[\"2020-05-11\",\"2020-05-25\",\"2020-06-08\",\"2020-06-22\",\"2020-07-06\",\"2020-07-20\",\"2020-08-03\",\"2020-08-17\",\"2020-08-31\",\"2020-09-14\",\"2020-09-28\",\"2020-10-12\",\"2020-10-26\",\"2020-11-09\",\"2020-11-23\",\"2020-12-07\",\"2020-12-21\",\"2021-01-04\",\"2021-01-11\",\"2021-01-25\",\"2021-02-08\",\"2021-02-22\",\"2021-03-08\",\"2021-03-22\",\"2021-04-05\",\"2021-04-19\",\"2021-05-03\",\"2021-05-17\",\"2021-05-31\",\"2021-06-14\",\"2021-06-28\",\"2021-07-12\",\"2021-07-26\",\"2021-08-09\",\"2021-08-23\",\"2021-09-06\",\"2021-09-20\",\"2021-10-04\",\"2021-10-18\",\"2021-11-01\",\"2021-11-15\",\"2021-11-29\",\"2021-12-13\",\"2021-12-27\",\"2022-01-05\"],\"xaxis\":\"x\",\"y\":[0,0,0,0,0,0,0,0,0,0,0,0,3,13,19,20,13,18,67,58,81,133,139,936,1280,5105,9712,14518,28481,51537,76695,134426,217542,320819,361094,358262,324192,278709,276511,301472,332572,328930,328647,81869,227],\"yaxis\":\"y\",\"type\":\"bar\"},{\"alignmentgroup\":\"True\",\"hovertemplate\":\"variant=Epsilon<br>date=%{x}<br>num_sequences=%{y}<extra></extra>\",\"legendgroup\":\"Epsilon\",\"marker\":{\"color\":\"#00cc96\",\"pattern\":{\"shape\":\"\"}},\"name\":\"Epsilon\",\"offsetgroup\":\"Epsilon\",\"orientation\":\"v\",\"showlegend\":true,\"textposition\":\"auto\",\"x\":[\"2020-05-11\",\"2020-05-25\",\"2020-06-08\",\"2020-06-22\",\"2020-07-06\",\"2020-07-20\",\"2020-08-03\",\"2020-08-17\",\"2020-08-31\",\"2020-09-14\",\"2020-09-28\",\"2020-10-12\",\"2020-10-26\",\"2020-11-09\",\"2020-11-23\",\"2020-12-07\",\"2020-12-21\",\"2021-01-04\",\"2021-01-11\",\"2021-01-25\",\"2021-02-08\",\"2021-02-22\",\"2021-03-08\",\"2021-03-22\",\"2021-04-05\",\"2021-04-19\",\"2021-05-03\",\"2021-05-17\",\"2021-05-31\",\"2021-06-14\",\"2021-06-28\",\"2021-07-12\",\"2021-07-26\",\"2021-08-09\",\"2021-08-23\",\"2021-09-06\",\"2021-09-20\",\"2021-10-04\",\"2021-10-18\",\"2021-11-01\",\"2021-11-15\",\"2021-11-29\",\"2021-12-13\",\"2021-12-27\",\"2022-01-05\"],\"xaxis\":\"x\",\"y\":[0,0,0,0,0,0,0,1,1,6,11,22,45,99,195,559,2170,2066,3074,7446,8494,8038,7994,8524,7235,5133,2834,1344,416,148,65,23,11,7,79,3,81,0,2,0,0,0,1,0,0],\"yaxis\":\"y\",\"type\":\"bar\"},{\"alignmentgroup\":\"True\",\"hovertemplate\":\"variant=Eta<br>date=%{x}<br>num_sequences=%{y}<extra></extra>\",\"legendgroup\":\"Eta\",\"marker\":{\"color\":\"#ab63fa\",\"pattern\":{\"shape\":\"\"}},\"name\":\"Eta\",\"offsetgroup\":\"Eta\",\"orientation\":\"v\",\"showlegend\":true,\"textposition\":\"auto\",\"x\":[\"2020-05-11\",\"2020-05-25\",\"2020-06-08\",\"2020-06-22\",\"2020-07-06\",\"2020-07-20\",\"2020-08-03\",\"2020-08-17\",\"2020-08-31\",\"2020-09-14\",\"2020-09-28\",\"2020-10-12\",\"2020-10-26\",\"2020-11-09\",\"2020-11-23\",\"2020-12-07\",\"2020-12-21\",\"2021-01-04\",\"2021-01-11\",\"2021-01-25\",\"2021-02-08\",\"2021-02-22\",\"2021-03-08\",\"2021-03-22\",\"2021-04-05\",\"2021-04-19\",\"2021-05-03\",\"2021-05-17\",\"2021-05-31\",\"2021-06-14\",\"2021-06-28\",\"2021-07-12\",\"2021-07-26\",\"2021-08-09\",\"2021-08-23\",\"2021-09-06\",\"2021-09-20\",\"2021-10-04\",\"2021-10-18\",\"2021-11-01\",\"2021-11-15\",\"2021-11-29\",\"2021-12-13\",\"2021-12-27\",\"2022-01-05\"],\"xaxis\":\"x\",\"y\":[0,0,0,0,0,0,0,0,0,0,0,0,0,0,0,0,10,21,61,133,297,355,652,786,1305,1138,858,599,259,188,168,41,16,30,2,1,2,0,0,2,0,0,0,0,0],\"yaxis\":\"y\",\"type\":\"bar\"},{\"alignmentgroup\":\"True\",\"hovertemplate\":\"variant=Gamma<br>date=%{x}<br>num_sequences=%{y}<extra></extra>\",\"legendgroup\":\"Gamma\",\"marker\":{\"color\":\"#FFA15A\",\"pattern\":{\"shape\":\"\"}},\"name\":\"Gamma\",\"offsetgroup\":\"Gamma\",\"orientation\":\"v\",\"showlegend\":true,\"textposition\":\"auto\",\"x\":[\"2020-05-11\",\"2020-05-25\",\"2020-06-08\",\"2020-06-22\",\"2020-07-06\",\"2020-07-20\",\"2020-08-03\",\"2020-08-17\",\"2020-08-31\",\"2020-09-14\",\"2020-09-28\",\"2020-10-12\",\"2020-10-26\",\"2020-11-09\",\"2020-11-23\",\"2020-12-07\",\"2020-12-21\",\"2021-01-04\",\"2021-01-11\",\"2021-01-25\",\"2021-02-08\",\"2021-02-22\",\"2021-03-08\",\"2021-03-22\",\"2021-04-05\",\"2021-04-19\",\"2021-05-03\",\"2021-05-17\",\"2021-05-31\",\"2021-06-14\",\"2021-06-28\",\"2021-07-12\",\"2021-07-26\",\"2021-08-09\",\"2021-08-23\",\"2021-09-06\",\"2021-09-20\",\"2021-10-04\",\"2021-10-18\",\"2021-11-01\",\"2021-11-15\",\"2021-11-29\",\"2021-12-13\",\"2021-12-27\",\"2022-01-05\"],\"xaxis\":\"x\",\"y\":[0,0,0,0,0,0,0,0,0,0,0,0,0,2,3,6,29,142,113,275,486,1156,2039,3503,7445,12148,13433,12328,11128,11029,9094,9675,7891,6174,2921,1840,1117,552,310,178,68,59,12,0,0],\"yaxis\":\"y\",\"type\":\"bar\"},{\"alignmentgroup\":\"True\",\"hovertemplate\":\"variant=Iota<br>date=%{x}<br>num_sequences=%{y}<extra></extra>\",\"legendgroup\":\"Iota\",\"marker\":{\"color\":\"#19d3f3\",\"pattern\":{\"shape\":\"\"}},\"name\":\"Iota\",\"offsetgroup\":\"Iota\",\"orientation\":\"v\",\"showlegend\":true,\"textposition\":\"auto\",\"x\":[\"2020-05-11\",\"2020-05-25\",\"2020-06-08\",\"2020-06-22\",\"2020-07-06\",\"2020-07-20\",\"2020-08-03\",\"2020-08-17\",\"2020-08-31\",\"2020-09-14\",\"2020-09-28\",\"2020-10-12\",\"2020-10-26\",\"2020-11-09\",\"2020-11-23\",\"2020-12-07\",\"2020-12-21\",\"2021-01-04\",\"2021-01-11\",\"2021-01-25\",\"2021-02-08\",\"2021-02-22\",\"2021-03-08\",\"2021-03-22\",\"2021-04-05\",\"2021-04-19\",\"2021-05-03\",\"2021-05-17\",\"2021-05-31\",\"2021-06-14\",\"2021-06-28\",\"2021-07-12\",\"2021-07-26\",\"2021-08-09\",\"2021-08-23\",\"2021-09-06\",\"2021-09-20\",\"2021-10-04\",\"2021-10-18\",\"2021-11-01\",\"2021-11-15\",\"2021-11-29\",\"2021-12-13\",\"2021-12-27\",\"2022-01-05\"],\"xaxis\":\"x\",\"y\":[0,0,0,0,0,0,0,0,0,0,0,0,0,0,2,9,20,73,84,253,799,1289,2157,4587,7948,9160,7119,4619,2336,1174,581,369,193,73,34,14,8,2,1,0,0,0,1,0,0],\"yaxis\":\"y\",\"type\":\"bar\"},{\"alignmentgroup\":\"True\",\"hovertemplate\":\"variant=Kappa<br>date=%{x}<br>num_sequences=%{y}<extra></extra>\",\"legendgroup\":\"Kappa\",\"marker\":{\"color\":\"#FF6692\",\"pattern\":{\"shape\":\"\"}},\"name\":\"Kappa\",\"offsetgroup\":\"Kappa\",\"orientation\":\"v\",\"showlegend\":true,\"textposition\":\"auto\",\"x\":[\"2020-05-11\",\"2020-05-25\",\"2020-06-08\",\"2020-06-22\",\"2020-07-06\",\"2020-07-20\",\"2020-08-03\",\"2020-08-17\",\"2020-08-31\",\"2020-09-14\",\"2020-09-28\",\"2020-10-12\",\"2020-10-26\",\"2020-11-09\",\"2020-11-23\",\"2020-12-07\",\"2020-12-21\",\"2021-01-04\",\"2021-01-11\",\"2021-01-25\",\"2021-02-08\",\"2021-02-22\",\"2021-03-08\",\"2021-03-22\",\"2021-04-05\",\"2021-04-19\",\"2021-05-03\",\"2021-05-17\",\"2021-05-31\",\"2021-06-14\",\"2021-06-28\",\"2021-07-12\",\"2021-07-26\",\"2021-08-09\",\"2021-08-23\",\"2021-09-06\",\"2021-09-20\",\"2021-10-04\",\"2021-10-18\",\"2021-11-01\",\"2021-11-15\",\"2021-11-29\",\"2021-12-13\",\"2021-12-27\",\"2022-01-05\"],\"xaxis\":\"x\",\"y\":[0,0,0,0,0,0,0,0,0,0,0,0,0,0,0,3,5,13,7,9,44,194,541,1199,1745,1879,1015,342,255,110,59,23,7,3,6,5,12,0,0,0,0,0,1,0,0],\"yaxis\":\"y\",\"type\":\"bar\"},{\"alignmentgroup\":\"True\",\"hovertemplate\":\"variant=Lambda<br>date=%{x}<br>num_sequences=%{y}<extra></extra>\",\"legendgroup\":\"Lambda\",\"marker\":{\"color\":\"#B6E880\",\"pattern\":{\"shape\":\"\"}},\"name\":\"Lambda\",\"offsetgroup\":\"Lambda\",\"orientation\":\"v\",\"showlegend\":true,\"textposition\":\"auto\",\"x\":[\"2020-05-11\",\"2020-05-25\",\"2020-06-08\",\"2020-06-22\",\"2020-07-06\",\"2020-07-20\",\"2020-08-03\",\"2020-08-17\",\"2020-08-31\",\"2020-09-14\",\"2020-09-28\",\"2020-10-12\",\"2020-10-26\",\"2020-11-09\",\"2020-11-23\",\"2020-12-07\",\"2020-12-21\",\"2021-01-04\",\"2021-01-11\",\"2021-01-25\",\"2021-02-08\",\"2021-02-22\",\"2021-03-08\",\"2021-03-22\",\"2021-04-05\",\"2021-04-19\",\"2021-05-03\",\"2021-05-17\",\"2021-05-31\",\"2021-06-14\",\"2021-06-28\",\"2021-07-12\",\"2021-07-26\",\"2021-08-09\",\"2021-08-23\",\"2021-09-06\",\"2021-09-20\",\"2021-10-04\",\"2021-10-18\",\"2021-11-01\",\"2021-11-15\",\"2021-11-29\",\"2021-12-13\",\"2021-12-27\",\"2022-01-05\"],\"xaxis\":\"x\",\"y\":[0,0,0,0,0,0,0,0,0,0,0,0,0,1,0,0,0,2,2,35,37,67,141,292,368,804,760,790,609,1071,817,821,826,574,531,323,205,120,102,52,46,8,6,1,0],\"yaxis\":\"y\",\"type\":\"bar\"},{\"alignmentgroup\":\"True\",\"hovertemplate\":\"variant=Mu<br>date=%{x}<br>num_sequences=%{y}<extra></extra>\",\"legendgroup\":\"Mu\",\"marker\":{\"color\":\"#FF97FF\",\"pattern\":{\"shape\":\"\"}},\"name\":\"Mu\",\"offsetgroup\":\"Mu\",\"orientation\":\"v\",\"showlegend\":true,\"textposition\":\"auto\",\"x\":[\"2020-05-11\",\"2020-05-25\",\"2020-06-08\",\"2020-06-22\",\"2020-07-06\",\"2020-07-20\",\"2020-08-03\",\"2020-08-17\",\"2020-08-31\",\"2020-09-14\",\"2020-09-28\",\"2020-10-12\",\"2020-10-26\",\"2020-11-09\",\"2020-11-23\",\"2020-12-07\",\"2020-12-21\",\"2021-01-04\",\"2021-01-11\",\"2021-01-25\",\"2021-02-08\",\"2021-02-22\",\"2021-03-08\",\"2021-03-22\",\"2021-04-05\",\"2021-04-19\",\"2021-05-03\",\"2021-05-17\",\"2021-05-31\",\"2021-06-14\",\"2021-06-28\",\"2021-07-12\",\"2021-07-26\",\"2021-08-09\",\"2021-08-23\",\"2021-09-06\",\"2021-09-20\",\"2021-10-04\",\"2021-10-18\",\"2021-11-01\",\"2021-11-15\",\"2021-11-29\",\"2021-12-13\",\"2021-12-27\",\"2022-01-05\"],\"xaxis\":\"x\",\"y\":[0,0,0,0,0,0,0,0,0,0,0,0,0,0,0,0,1,0,1,2,0,1,19,37,111,408,503,698,783,1165,1298,1809,2398,1766,1112,844,510,426,154,91,72,26,7,6,0],\"yaxis\":\"y\",\"type\":\"bar\"},{\"alignmentgroup\":\"True\",\"hovertemplate\":\"variant=Omicron<br>date=%{x}<br>num_sequences=%{y}<extra></extra>\",\"legendgroup\":\"Omicron\",\"marker\":{\"color\":\"#FECB52\",\"pattern\":{\"shape\":\"\"}},\"name\":\"Omicron\",\"offsetgroup\":\"Omicron\",\"orientation\":\"v\",\"showlegend\":true,\"textposition\":\"auto\",\"x\":[\"2020-05-11\",\"2020-05-25\",\"2020-06-08\",\"2020-06-22\",\"2020-07-06\",\"2020-07-20\",\"2020-08-03\",\"2020-08-17\",\"2020-08-31\",\"2020-09-14\",\"2020-09-28\",\"2020-10-12\",\"2020-10-26\",\"2020-11-09\",\"2020-11-23\",\"2020-12-07\",\"2020-12-21\",\"2021-01-04\",\"2021-01-11\",\"2021-01-25\",\"2021-02-08\",\"2021-02-22\",\"2021-03-08\",\"2021-03-22\",\"2021-04-05\",\"2021-04-19\",\"2021-05-03\",\"2021-05-17\",\"2021-05-31\",\"2021-06-14\",\"2021-06-28\",\"2021-07-12\",\"2021-07-26\",\"2021-08-09\",\"2021-08-23\",\"2021-09-06\",\"2021-09-20\",\"2021-10-04\",\"2021-10-18\",\"2021-11-01\",\"2021-11-15\",\"2021-11-29\",\"2021-12-13\",\"2021-12-27\",\"2022-01-05\"],\"xaxis\":\"x\",\"y\":[0,0,0,0,0,0,0,0,0,0,0,0,0,0,0,0,0,0,0,0,0,0,0,0,0,0,0,0,0,0,0,0,0,0,0,0,0,0,1,4,42,1303,22643,90795,750],\"yaxis\":\"y\",\"type\":\"bar\"},{\"alignmentgroup\":\"True\",\"hovertemplate\":\"variant=S:677H.Robin1<br>date=%{x}<br>num_sequences=%{y}<extra></extra>\",\"legendgroup\":\"S:677H.Robin1\",\"marker\":{\"color\":\"#636efa\",\"pattern\":{\"shape\":\"\"}},\"name\":\"S:677H.Robin1\",\"offsetgroup\":\"S:677H.Robin1\",\"orientation\":\"v\",\"showlegend\":true,\"textposition\":\"auto\",\"x\":[\"2020-05-11\",\"2020-05-25\",\"2020-06-08\",\"2020-06-22\",\"2020-07-06\",\"2020-07-20\",\"2020-08-03\",\"2020-08-17\",\"2020-08-31\",\"2020-09-14\",\"2020-09-28\",\"2020-10-12\",\"2020-10-26\",\"2020-11-09\",\"2020-11-23\",\"2020-12-07\",\"2020-12-21\",\"2021-01-04\",\"2021-01-11\",\"2021-01-25\",\"2021-02-08\",\"2021-02-22\",\"2021-03-08\",\"2021-03-22\",\"2021-04-05\",\"2021-04-19\",\"2021-05-03\",\"2021-05-17\",\"2021-05-31\",\"2021-06-14\",\"2021-06-28\",\"2021-07-12\",\"2021-07-26\",\"2021-08-09\",\"2021-08-23\",\"2021-09-06\",\"2021-09-20\",\"2021-10-04\",\"2021-10-18\",\"2021-11-01\",\"2021-11-15\",\"2021-11-29\",\"2021-12-13\",\"2021-12-27\",\"2022-01-05\"],\"xaxis\":\"x\",\"y\":[0,0,0,0,0,0,0,1,13,21,63,32,57,142,175,185,303,549,434,798,665,820,803,696,439,239,65,24,14,1,0,3,0,1,1,1,0,0,0,0,0,1,1,0,0],\"yaxis\":\"y\",\"type\":\"bar\"},{\"alignmentgroup\":\"True\",\"hovertemplate\":\"variant=S:677P.Pelican<br>date=%{x}<br>num_sequences=%{y}<extra></extra>\",\"legendgroup\":\"S:677P.Pelican\",\"marker\":{\"color\":\"#EF553B\",\"pattern\":{\"shape\":\"\"}},\"name\":\"S:677P.Pelican\",\"offsetgroup\":\"S:677P.Pelican\",\"orientation\":\"v\",\"showlegend\":true,\"textposition\":\"auto\",\"x\":[\"2020-05-11\",\"2020-05-25\",\"2020-06-08\",\"2020-06-22\",\"2020-07-06\",\"2020-07-20\",\"2020-08-03\",\"2020-08-17\",\"2020-08-31\",\"2020-09-14\",\"2020-09-28\",\"2020-10-12\",\"2020-10-26\",\"2020-11-09\",\"2020-11-23\",\"2020-12-07\",\"2020-12-21\",\"2021-01-04\",\"2021-01-11\",\"2021-01-25\",\"2021-02-08\",\"2021-02-22\",\"2021-03-08\",\"2021-03-22\",\"2021-04-05\",\"2021-04-19\",\"2021-05-03\",\"2021-05-17\",\"2021-05-31\",\"2021-06-14\",\"2021-06-28\",\"2021-07-12\",\"2021-07-26\",\"2021-08-09\",\"2021-08-23\",\"2021-09-06\",\"2021-09-20\",\"2021-10-04\",\"2021-10-18\",\"2021-11-01\",\"2021-11-15\",\"2021-11-29\",\"2021-12-13\",\"2021-12-27\",\"2022-01-05\"],\"xaxis\":\"x\",\"y\":[0,0,0,0,0,0,1,0,0,0,0,0,9,38,55,94,367,336,320,689,590,598,739,470,250,153,63,24,8,2,1,0,0,1,0,6,23,0,0,0,0,0,0,0,0],\"yaxis\":\"y\",\"type\":\"bar\"},{\"alignmentgroup\":\"True\",\"hovertemplate\":\"variant=non_who<br>date=%{x}<br>num_sequences=%{y}<extra></extra>\",\"legendgroup\":\"non_who\",\"marker\":{\"color\":\"#00cc96\",\"pattern\":{\"shape\":\"\"}},\"name\":\"non_who\",\"offsetgroup\":\"non_who\",\"orientation\":\"v\",\"showlegend\":true,\"textposition\":\"auto\",\"x\":[\"2020-05-11\",\"2020-05-25\",\"2020-06-08\",\"2020-06-22\",\"2020-07-06\",\"2020-07-20\",\"2020-08-03\",\"2020-08-17\",\"2020-08-31\",\"2020-09-14\",\"2020-09-28\",\"2020-10-12\",\"2020-10-26\",\"2020-11-09\",\"2020-11-23\",\"2020-12-07\",\"2020-12-21\",\"2021-01-04\",\"2021-01-11\",\"2021-01-25\",\"2021-02-08\",\"2021-02-22\",\"2021-03-08\",\"2021-03-22\",\"2021-04-05\",\"2021-04-19\",\"2021-05-03\",\"2021-05-17\",\"2021-05-31\",\"2021-06-14\",\"2021-06-28\",\"2021-07-12\",\"2021-07-26\",\"2021-08-09\",\"2021-08-23\",\"2021-09-06\",\"2021-09-20\",\"2021-10-04\",\"2021-10-18\",\"2021-11-01\",\"2021-11-15\",\"2021-11-29\",\"2021-12-13\",\"2021-12-27\",\"2022-01-05\"],\"xaxis\":\"x\",\"y\":[16436,12903,9660,16160,15764,18421,19535,18469,17651,18102,23048,27008,35213,45424,45833,40239,58660,53848,35838,73089,62821,56462,48556,39910,30086,22680,15973,10814,6908,4959,3985,2958,2977,7890,5850,1105,904,635,621,598,933,931,628,611,2],\"yaxis\":\"y\",\"type\":\"bar\"},{\"alignmentgroup\":\"True\",\"hovertemplate\":\"variant=others<br>date=%{x}<br>num_sequences=%{y}<extra></extra>\",\"legendgroup\":\"others\",\"marker\":{\"color\":\"#ab63fa\",\"pattern\":{\"shape\":\"\"}},\"name\":\"others\",\"offsetgroup\":\"others\",\"orientation\":\"v\",\"showlegend\":true,\"textposition\":\"auto\",\"x\":[\"2020-05-11\",\"2020-05-25\",\"2020-06-08\",\"2020-06-22\",\"2020-07-06\",\"2020-07-20\",\"2020-08-03\",\"2020-08-17\",\"2020-08-31\",\"2020-09-14\",\"2020-09-28\",\"2020-10-12\",\"2020-10-26\",\"2020-11-09\",\"2020-11-23\",\"2020-12-07\",\"2020-12-21\",\"2021-01-04\",\"2021-01-11\",\"2021-01-25\",\"2021-02-08\",\"2021-02-22\",\"2021-03-08\",\"2021-03-22\",\"2021-04-05\",\"2021-04-19\",\"2021-05-03\",\"2021-05-17\",\"2021-05-31\",\"2021-06-14\",\"2021-06-28\",\"2021-07-12\",\"2021-07-26\",\"2021-08-09\",\"2021-08-23\",\"2021-09-06\",\"2021-09-20\",\"2021-10-04\",\"2021-10-18\",\"2021-11-01\",\"2021-11-15\",\"2021-11-29\",\"2021-12-13\",\"2021-12-27\",\"2022-01-05\"],\"xaxis\":\"x\",\"y\":[16433,12901,9657,16145,15676,18282,19147,17444,14937,13197,14303,15766,18041,23787,25613,24523,31151,31691,22975,45461,37834,35418,31736,28808,22956,17510,12625,8660,5831,4312,3644,2786,2861,7827,5823,1085,871,614,603,589,928,928,619,603,2],\"yaxis\":\"y\",\"type\":\"bar\"}],                        {\"template\":{\"data\":{\"histogram2dcontour\":[{\"type\":\"histogram2dcontour\",\"colorbar\":{\"outlinewidth\":0,\"ticks\":\"\"},\"colorscale\":[[0.0,\"#0d0887\"],[0.1111111111111111,\"#46039f\"],[0.2222222222222222,\"#7201a8\"],[0.3333333333333333,\"#9c179e\"],[0.4444444444444444,\"#bd3786\"],[0.5555555555555556,\"#d8576b\"],[0.6666666666666666,\"#ed7953\"],[0.7777777777777778,\"#fb9f3a\"],[0.8888888888888888,\"#fdca26\"],[1.0,\"#f0f921\"]]}],\"choropleth\":[{\"type\":\"choropleth\",\"colorbar\":{\"outlinewidth\":0,\"ticks\":\"\"}}],\"histogram2d\":[{\"type\":\"histogram2d\",\"colorbar\":{\"outlinewidth\":0,\"ticks\":\"\"},\"colorscale\":[[0.0,\"#0d0887\"],[0.1111111111111111,\"#46039f\"],[0.2222222222222222,\"#7201a8\"],[0.3333333333333333,\"#9c179e\"],[0.4444444444444444,\"#bd3786\"],[0.5555555555555556,\"#d8576b\"],[0.6666666666666666,\"#ed7953\"],[0.7777777777777778,\"#fb9f3a\"],[0.8888888888888888,\"#fdca26\"],[1.0,\"#f0f921\"]]}],\"heatmap\":[{\"type\":\"heatmap\",\"colorbar\":{\"outlinewidth\":0,\"ticks\":\"\"},\"colorscale\":[[0.0,\"#0d0887\"],[0.1111111111111111,\"#46039f\"],[0.2222222222222222,\"#7201a8\"],[0.3333333333333333,\"#9c179e\"],[0.4444444444444444,\"#bd3786\"],[0.5555555555555556,\"#d8576b\"],[0.6666666666666666,\"#ed7953\"],[0.7777777777777778,\"#fb9f3a\"],[0.8888888888888888,\"#fdca26\"],[1.0,\"#f0f921\"]]}],\"heatmapgl\":[{\"type\":\"heatmapgl\",\"colorbar\":{\"outlinewidth\":0,\"ticks\":\"\"},\"colorscale\":[[0.0,\"#0d0887\"],[0.1111111111111111,\"#46039f\"],[0.2222222222222222,\"#7201a8\"],[0.3333333333333333,\"#9c179e\"],[0.4444444444444444,\"#bd3786\"],[0.5555555555555556,\"#d8576b\"],[0.6666666666666666,\"#ed7953\"],[0.7777777777777778,\"#fb9f3a\"],[0.8888888888888888,\"#fdca26\"],[1.0,\"#f0f921\"]]}],\"contourcarpet\":[{\"type\":\"contourcarpet\",\"colorbar\":{\"outlinewidth\":0,\"ticks\":\"\"}}],\"contour\":[{\"type\":\"contour\",\"colorbar\":{\"outlinewidth\":0,\"ticks\":\"\"},\"colorscale\":[[0.0,\"#0d0887\"],[0.1111111111111111,\"#46039f\"],[0.2222222222222222,\"#7201a8\"],[0.3333333333333333,\"#9c179e\"],[0.4444444444444444,\"#bd3786\"],[0.5555555555555556,\"#d8576b\"],[0.6666666666666666,\"#ed7953\"],[0.7777777777777778,\"#fb9f3a\"],[0.8888888888888888,\"#fdca26\"],[1.0,\"#f0f921\"]]}],\"surface\":[{\"type\":\"surface\",\"colorbar\":{\"outlinewidth\":0,\"ticks\":\"\"},\"colorscale\":[[0.0,\"#0d0887\"],[0.1111111111111111,\"#46039f\"],[0.2222222222222222,\"#7201a8\"],[0.3333333333333333,\"#9c179e\"],[0.4444444444444444,\"#bd3786\"],[0.5555555555555556,\"#d8576b\"],[0.6666666666666666,\"#ed7953\"],[0.7777777777777778,\"#fb9f3a\"],[0.8888888888888888,\"#fdca26\"],[1.0,\"#f0f921\"]]}],\"mesh3d\":[{\"type\":\"mesh3d\",\"colorbar\":{\"outlinewidth\":0,\"ticks\":\"\"}}],\"scatter\":[{\"fillpattern\":{\"fillmode\":\"overlay\",\"size\":10,\"solidity\":0.2},\"type\":\"scatter\"}],\"parcoords\":[{\"type\":\"parcoords\",\"line\":{\"colorbar\":{\"outlinewidth\":0,\"ticks\":\"\"}}}],\"scatterpolargl\":[{\"type\":\"scatterpolargl\",\"marker\":{\"colorbar\":{\"outlinewidth\":0,\"ticks\":\"\"}}}],\"bar\":[{\"error_x\":{\"color\":\"#2a3f5f\"},\"error_y\":{\"color\":\"#2a3f5f\"},\"marker\":{\"line\":{\"color\":\"#E5ECF6\",\"width\":0.5},\"pattern\":{\"fillmode\":\"overlay\",\"size\":10,\"solidity\":0.2}},\"type\":\"bar\"}],\"scattergeo\":[{\"type\":\"scattergeo\",\"marker\":{\"colorbar\":{\"outlinewidth\":0,\"ticks\":\"\"}}}],\"scatterpolar\":[{\"type\":\"scatterpolar\",\"marker\":{\"colorbar\":{\"outlinewidth\":0,\"ticks\":\"\"}}}],\"histogram\":[{\"marker\":{\"pattern\":{\"fillmode\":\"overlay\",\"size\":10,\"solidity\":0.2}},\"type\":\"histogram\"}],\"scattergl\":[{\"type\":\"scattergl\",\"marker\":{\"colorbar\":{\"outlinewidth\":0,\"ticks\":\"\"}}}],\"scatter3d\":[{\"type\":\"scatter3d\",\"line\":{\"colorbar\":{\"outlinewidth\":0,\"ticks\":\"\"}},\"marker\":{\"colorbar\":{\"outlinewidth\":0,\"ticks\":\"\"}}}],\"scattermapbox\":[{\"type\":\"scattermapbox\",\"marker\":{\"colorbar\":{\"outlinewidth\":0,\"ticks\":\"\"}}}],\"scatterternary\":[{\"type\":\"scatterternary\",\"marker\":{\"colorbar\":{\"outlinewidth\":0,\"ticks\":\"\"}}}],\"scattercarpet\":[{\"type\":\"scattercarpet\",\"marker\":{\"colorbar\":{\"outlinewidth\":0,\"ticks\":\"\"}}}],\"carpet\":[{\"aaxis\":{\"endlinecolor\":\"#2a3f5f\",\"gridcolor\":\"white\",\"linecolor\":\"white\",\"minorgridcolor\":\"white\",\"startlinecolor\":\"#2a3f5f\"},\"baxis\":{\"endlinecolor\":\"#2a3f5f\",\"gridcolor\":\"white\",\"linecolor\":\"white\",\"minorgridcolor\":\"white\",\"startlinecolor\":\"#2a3f5f\"},\"type\":\"carpet\"}],\"table\":[{\"cells\":{\"fill\":{\"color\":\"#EBF0F8\"},\"line\":{\"color\":\"white\"}},\"header\":{\"fill\":{\"color\":\"#C8D4E3\"},\"line\":{\"color\":\"white\"}},\"type\":\"table\"}],\"barpolar\":[{\"marker\":{\"line\":{\"color\":\"#E5ECF6\",\"width\":0.5},\"pattern\":{\"fillmode\":\"overlay\",\"size\":10,\"solidity\":0.2}},\"type\":\"barpolar\"}],\"pie\":[{\"automargin\":true,\"type\":\"pie\"}]},\"layout\":{\"autotypenumbers\":\"strict\",\"colorway\":[\"#636efa\",\"#EF553B\",\"#00cc96\",\"#ab63fa\",\"#FFA15A\",\"#19d3f3\",\"#FF6692\",\"#B6E880\",\"#FF97FF\",\"#FECB52\"],\"font\":{\"color\":\"#2a3f5f\"},\"hovermode\":\"closest\",\"hoverlabel\":{\"align\":\"left\"},\"paper_bgcolor\":\"white\",\"plot_bgcolor\":\"#E5ECF6\",\"polar\":{\"bgcolor\":\"#E5ECF6\",\"angularaxis\":{\"gridcolor\":\"white\",\"linecolor\":\"white\",\"ticks\":\"\"},\"radialaxis\":{\"gridcolor\":\"white\",\"linecolor\":\"white\",\"ticks\":\"\"}},\"ternary\":{\"bgcolor\":\"#E5ECF6\",\"aaxis\":{\"gridcolor\":\"white\",\"linecolor\":\"white\",\"ticks\":\"\"},\"baxis\":{\"gridcolor\":\"white\",\"linecolor\":\"white\",\"ticks\":\"\"},\"caxis\":{\"gridcolor\":\"white\",\"linecolor\":\"white\",\"ticks\":\"\"}},\"coloraxis\":{\"colorbar\":{\"outlinewidth\":0,\"ticks\":\"\"}},\"colorscale\":{\"sequential\":[[0.0,\"#0d0887\"],[0.1111111111111111,\"#46039f\"],[0.2222222222222222,\"#7201a8\"],[0.3333333333333333,\"#9c179e\"],[0.4444444444444444,\"#bd3786\"],[0.5555555555555556,\"#d8576b\"],[0.6666666666666666,\"#ed7953\"],[0.7777777777777778,\"#fb9f3a\"],[0.8888888888888888,\"#fdca26\"],[1.0,\"#f0f921\"]],\"sequentialminus\":[[0.0,\"#0d0887\"],[0.1111111111111111,\"#46039f\"],[0.2222222222222222,\"#7201a8\"],[0.3333333333333333,\"#9c179e\"],[0.4444444444444444,\"#bd3786\"],[0.5555555555555556,\"#d8576b\"],[0.6666666666666666,\"#ed7953\"],[0.7777777777777778,\"#fb9f3a\"],[0.8888888888888888,\"#fdca26\"],[1.0,\"#f0f921\"]],\"diverging\":[[0,\"#8e0152\"],[0.1,\"#c51b7d\"],[0.2,\"#de77ae\"],[0.3,\"#f1b6da\"],[0.4,\"#fde0ef\"],[0.5,\"#f7f7f7\"],[0.6,\"#e6f5d0\"],[0.7,\"#b8e186\"],[0.8,\"#7fbc41\"],[0.9,\"#4d9221\"],[1,\"#276419\"]]},\"xaxis\":{\"gridcolor\":\"white\",\"linecolor\":\"white\",\"ticks\":\"\",\"title\":{\"standoff\":15},\"zerolinecolor\":\"white\",\"automargin\":true,\"zerolinewidth\":2},\"yaxis\":{\"gridcolor\":\"white\",\"linecolor\":\"white\",\"ticks\":\"\",\"title\":{\"standoff\":15},\"zerolinecolor\":\"white\",\"automargin\":true,\"zerolinewidth\":2},\"scene\":{\"xaxis\":{\"backgroundcolor\":\"#E5ECF6\",\"gridcolor\":\"white\",\"linecolor\":\"white\",\"showbackground\":true,\"ticks\":\"\",\"zerolinecolor\":\"white\",\"gridwidth\":2},\"yaxis\":{\"backgroundcolor\":\"#E5ECF6\",\"gridcolor\":\"white\",\"linecolor\":\"white\",\"showbackground\":true,\"ticks\":\"\",\"zerolinecolor\":\"white\",\"gridwidth\":2},\"zaxis\":{\"backgroundcolor\":\"#E5ECF6\",\"gridcolor\":\"white\",\"linecolor\":\"white\",\"showbackground\":true,\"ticks\":\"\",\"zerolinecolor\":\"white\",\"gridwidth\":2}},\"shapedefaults\":{\"line\":{\"color\":\"#2a3f5f\"}},\"annotationdefaults\":{\"arrowcolor\":\"#2a3f5f\",\"arrowhead\":0,\"arrowwidth\":1},\"geo\":{\"bgcolor\":\"white\",\"landcolor\":\"#E5ECF6\",\"subunitcolor\":\"white\",\"showland\":true,\"showlakes\":true,\"lakecolor\":\"white\"},\"title\":{\"x\":0.05},\"mapbox\":{\"style\":\"light\"}}},\"xaxis\":{\"anchor\":\"y\",\"domain\":[0.0,1.0],\"title\":{\"text\":\"Date\"}},\"yaxis\":{\"anchor\":\"x\",\"domain\":[0.0,1.0],\"title\":{\"text\":\"Sequence\"}},\"legend\":{\"title\":{\"text\":\"variant\"},\"tracegroupgap\":0},\"margin\":{\"t\":60},\"barmode\":\"relative\",\"title\":{\"text\":\"Virus Variants By Date\"}},                        {\"responsive\": true}                    ).then(function(){\n",
       "                            \n",
       "var gd = document.getElementById('b731acdc-b846-4e3a-8fc9-cf733cfc32c1');\n",
       "var x = new MutationObserver(function (mutations, observer) {{\n",
       "        var display = window.getComputedStyle(gd).display;\n",
       "        if (!display || display === 'none') {{\n",
       "            console.log([gd, 'removed!']);\n",
       "            Plotly.purge(gd);\n",
       "            observer.disconnect();\n",
       "        }}\n",
       "}});\n",
       "\n",
       "// Listen for the removal of the full notebook cells\n",
       "var notebookContainer = gd.closest('#notebook-container');\n",
       "if (notebookContainer) {{\n",
       "    x.observe(notebookContainer, {childList: true});\n",
       "}}\n",
       "\n",
       "// Listen for the clearing of the current output cell\n",
       "var outputEl = gd.closest('.output');\n",
       "if (outputEl) {{\n",
       "    x.observe(outputEl, {childList: true});\n",
       "}}\n",
       "\n",
       "                        })                };                });            </script>        </div>"
      ]
     },
     "metadata": {},
     "output_type": "display_data"
    }
   ],
   "source": [
    "# by date\n",
    "\n",
    "date = omi.groupby(['date', 'variant'])['num_sequences'].sum().reset_index()\n",
    "data_vis = px.bar(date, x = 'date', y = 'num_sequences', color='variant')\n",
    "data_vis.update_layout(\n",
    "        title={\n",
    "            'text' : 'Virus Variants By Date',\n",
    "        },\n",
    "    xaxis_title=\"Date\",\n",
    "    yaxis_title=\"Sequence\"\n",
    ")\n",
    "data_vis.show()"
   ]
  },
  {
   "cell_type": "markdown",
   "id": "c9efe352",
   "metadata": {},
   "source": [
    "# Success! "
   ]
  },
  {
   "cell_type": "markdown",
   "id": "4525d540",
   "metadata": {},
   "source": [
    "# Checking if Data Report is Correct"
   ]
  },
  {
   "cell_type": "code",
   "execution_count": 77,
   "id": "72b90388",
   "metadata": {},
   "outputs": [
    {
     "data": {
      "application/vnd.jupyter.widget-view+json": {
       "model_id": "5bb76f4036e64ff4991ebf8b2bca720c",
       "version_major": 2,
       "version_minor": 0
      },
      "text/plain": [
       "Tab(children=(HTML(value='<div id=\"overview-content\" class=\"row variable spacing\">\\n    <div class=\"row\">\\n   …"
      ]
     },
     "metadata": {},
     "output_type": "display_data"
    },
    {
     "data": {
      "text/html": [
       "Report generated with <a href=\"https://github.com/pandas-profiling/pandas-profiling\">pandas-profiling</a>."
      ],
      "text/plain": [
       "<IPython.core.display.HTML object>"
      ]
     },
     "metadata": {},
     "output_type": "display_data"
    },
    {
     "data": {
      "text/plain": []
     },
     "execution_count": 77,
     "metadata": {},
     "output_type": "execute_result"
    }
   ],
   "source": [
    "profiling = pp.ProfileReport(omi)\n",
    "profiling"
   ]
  },
  {
   "cell_type": "code",
   "execution_count": null,
   "id": "f6f7684a",
   "metadata": {},
   "outputs": [],
   "source": []
  }
 ],
 "metadata": {
  "kernelspec": {
   "display_name": "Python 3 (ipykernel)",
   "language": "python",
   "name": "python3"
  },
  "language_info": {
   "codemirror_mode": {
    "name": "ipython",
    "version": 3
   },
   "file_extension": ".py",
   "mimetype": "text/x-python",
   "name": "python",
   "nbconvert_exporter": "python",
   "pygments_lexer": "ipython3",
   "version": "3.9.7"
  }
 },
 "nbformat": 4,
 "nbformat_minor": 5
}
